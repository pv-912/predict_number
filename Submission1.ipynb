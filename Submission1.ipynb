{
  "nbformat": 4,
  "nbformat_minor": 0,
  "metadata": {
    "colab": {
      "name": "Untitled",
      "version": "0.3.2",
      "provenance": [],
      "include_colab_link": true
    },
    "kernelspec": {
      "name": "python3",
      "display_name": "Python 3"
    }
  },
  "cells": [
    {
      "cell_type": "markdown",
      "metadata": {
        "id": "view-in-github",
        "colab_type": "text"
      },
      "source": [
        "<a href=\"https://colab.research.google.com/github/pv-912/predict_number/blob/master/Submission1.ipynb\" target=\"_parent\"><img src=\"https://colab.research.google.com/assets/colab-badge.svg\" alt=\"Open In Colab\"/></a>"
      ]
    },
    {
      "metadata": {
        "id": "hhIHOHgqEY_U",
        "colab_type": "code",
        "colab": {}
      },
      "cell_type": "code",
      "source": [
        "import pickle\n",
        "filename = 'finalized_model.sav'\n",
        "model = pickle.load(open(filename, 'rb'))\n"
      ],
      "execution_count": 0,
      "outputs": []
    },
    {
      "metadata": {
        "id": "YY0jWI-IEjWL",
        "colab_type": "code",
        "colab": {}
      },
      "cell_type": "code",
      "source": [
        "import pandas as pd\n",
        "df = pd.read_csv('gdrive/My Drive/learning/predict_number/data/train.csv')\n",
        "test = pd.read_csv('gdrive/My Drive/learning/predict_number/data/test.csv')\n",
        "sample = pd.read_csv('gdrive/My Drive/learning/predict_number/data/sample.csv')"
      ],
      "execution_count": 0,
      "outputs": []
    },
    {
      "metadata": {
        "id": "4X2V9WtuEpXT",
        "colab_type": "code",
        "outputId": "8e423712-ff7f-4eee-cb93-9bf91778eda9",
        "colab": {
          "base_uri": "https://localhost:8080/",
          "height": 34
        }
      },
      "cell_type": "code",
      "source": [
        "import numpy as np\n",
        "import pandas as pd\n",
        "import matplotlib.pyplot as plt\n",
        "%matplotlib inline\n",
        "!pip install mpld3\n",
        "import mpld3\n",
        "mpld3.enable_notebook()\n",
        "import pandas as pd\n",
        "pd.set_option('display.height', 1000)\n",
        "pd.set_option('display.max_rows', 500)\n",
        "pd.set_option('display.max_columns', 500)\n",
        "pd.set_option('display.width', 1000)\n",
        "# output all lines\n",
        "\n",
        "from IPython.core.interactiveshell import InteractiveShell\n",
        "InteractiveShell.ast_node_interactivity = \"all\""
      ],
      "execution_count": 0,
      "outputs": [
        {
          "output_type": "stream",
          "text": [
            "Requirement already satisfied: mpld3 in /usr/local/lib/python3.6/dist-packages (0.3)\n"
          ],
          "name": "stdout"
        }
      ]
    },
    {
      "metadata": {
        "id": "eTJL-iiqFMPq",
        "colab_type": "code",
        "outputId": "17dbe974-2ff4-4634-f2ea-f8ebf30ae94c",
        "colab": {
          "base_uri": "https://localhost:8080/",
          "height": 204
        }
      },
      "cell_type": "code",
      "source": [
        "from sklearn.preprocessing import LabelEncoder, OneHotEncoder\n",
        "label_encoder = LabelEncoder()\n",
        "temp = test.copy()\n",
        "temp.iloc[:,1] = label_encoder.fit_transform(test.iloc[:,1])\n",
        "temp.head()\n"
      ],
      "execution_count": 0,
      "outputs": [
        {
          "output_type": "execute_result",
          "data": {
            "text/html": [
              "<div>\n",
              "<style scoped>\n",
              "    .dataframe tbody tr th:only-of-type {\n",
              "        vertical-align: middle;\n",
              "    }\n",
              "\n",
              "    .dataframe tbody tr th {\n",
              "        vertical-align: top;\n",
              "    }\n",
              "\n",
              "    .dataframe thead th {\n",
              "        text-align: right;\n",
              "    }\n",
              "</style>\n",
              "<table border=\"1\" class=\"dataframe\">\n",
              "  <thead>\n",
              "    <tr style=\"text-align: right;\">\n",
              "      <th></th>\n",
              "      <th>ID</th>\n",
              "      <th>Tag</th>\n",
              "      <th>Reputation</th>\n",
              "      <th>Answers</th>\n",
              "      <th>Username</th>\n",
              "      <th>Views</th>\n",
              "    </tr>\n",
              "  </thead>\n",
              "  <tbody>\n",
              "    <tr>\n",
              "      <th>0</th>\n",
              "      <td>366953</td>\n",
              "      <td>0</td>\n",
              "      <td>5645.0</td>\n",
              "      <td>3.0</td>\n",
              "      <td>50652</td>\n",
              "      <td>33200.0</td>\n",
              "    </tr>\n",
              "    <tr>\n",
              "      <th>1</th>\n",
              "      <td>71864</td>\n",
              "      <td>1</td>\n",
              "      <td>24511.0</td>\n",
              "      <td>6.0</td>\n",
              "      <td>37685</td>\n",
              "      <td>2730.0</td>\n",
              "    </tr>\n",
              "    <tr>\n",
              "      <th>2</th>\n",
              "      <td>141692</td>\n",
              "      <td>3</td>\n",
              "      <td>927.0</td>\n",
              "      <td>1.0</td>\n",
              "      <td>135293</td>\n",
              "      <td>21167.0</td>\n",
              "    </tr>\n",
              "    <tr>\n",
              "      <th>3</th>\n",
              "      <td>316833</td>\n",
              "      <td>3</td>\n",
              "      <td>21.0</td>\n",
              "      <td>6.0</td>\n",
              "      <td>166998</td>\n",
              "      <td>18528.0</td>\n",
              "    </tr>\n",
              "    <tr>\n",
              "      <th>4</th>\n",
              "      <td>440445</td>\n",
              "      <td>3</td>\n",
              "      <td>4475.0</td>\n",
              "      <td>10.0</td>\n",
              "      <td>53504</td>\n",
              "      <td>57240.0</td>\n",
              "    </tr>\n",
              "  </tbody>\n",
              "</table>\n",
              "</div>"
            ],
            "text/plain": [
              "       ID  Tag  Reputation  Answers  Username    Views\n",
              "0  366953    0      5645.0      3.0     50652  33200.0\n",
              "1   71864    1     24511.0      6.0     37685   2730.0\n",
              "2  141692    3       927.0      1.0    135293  21167.0\n",
              "3  316833    3        21.0      6.0    166998  18528.0\n",
              "4  440445    3      4475.0     10.0     53504  57240.0"
            ]
          },
          "metadata": {
            "tags": []
          },
          "execution_count": 20
        }
      ]
    },
    {
      "metadata": {
        "id": "E5VgW6A4G0LG",
        "colab_type": "code",
        "colab": {}
      },
      "cell_type": "code",
      "source": [
        "\n",
        "from sklearn.preprocessing import StandardScaler, Normalizer, MinMaxScaler\n",
        "X = temp[[\"Reputation\", \"Answers\" , \"Views\"]].values.astype(np.float64)\n",
        "min_max_scaler = MinMaxScaler()\n",
        "min_max_scaler.fit_transform(X)\n",
        "scaled_data = pd.DataFrame(min_max_scaler.fit_transform(X), columns=[\"Reputation\" , \"Answers\" , \"Views\"])\n",
        "scaled_data.head()\n",
        "\n",
        "temp.drop(columns=[\"Reputation\" , \"Answers\" , \"Views\"], axis=1,inplace=True)\n",
        "temp = pd.concat([temp, scaled_data], axis=1)\n",
        "# temp.head()"
      ],
      "execution_count": 0,
      "outputs": []
    },
    {
      "metadata": {
        "id": "reZ6nfukG0IM",
        "colab_type": "code",
        "outputId": "3d0aee26-dffd-42de-ea34-b4625cd01a81",
        "colab": {
          "base_uri": "https://localhost:8080/",
          "height": 204
        }
      },
      "cell_type": "code",
      "source": [
        "temp.head()"
      ],
      "execution_count": 0,
      "outputs": [
        {
          "output_type": "execute_result",
          "data": {
            "text/html": [
              "<div>\n",
              "<style scoped>\n",
              "    .dataframe tbody tr th:only-of-type {\n",
              "        vertical-align: middle;\n",
              "    }\n",
              "\n",
              "    .dataframe tbody tr th {\n",
              "        vertical-align: top;\n",
              "    }\n",
              "\n",
              "    .dataframe thead th {\n",
              "        text-align: right;\n",
              "    }\n",
              "</style>\n",
              "<table border=\"1\" class=\"dataframe\">\n",
              "  <thead>\n",
              "    <tr style=\"text-align: right;\">\n",
              "      <th></th>\n",
              "      <th>ID</th>\n",
              "      <th>Tag</th>\n",
              "      <th>Username</th>\n",
              "      <th>Reputation</th>\n",
              "      <th>Answers</th>\n",
              "      <th>Views</th>\n",
              "    </tr>\n",
              "  </thead>\n",
              "  <tbody>\n",
              "    <tr>\n",
              "      <th>0</th>\n",
              "      <td>366953</td>\n",
              "      <td>0</td>\n",
              "      <td>50652</td>\n",
              "      <td>0.005415</td>\n",
              "      <td>0.041096</td>\n",
              "      <td>0.006632</td>\n",
              "    </tr>\n",
              "    <tr>\n",
              "      <th>1</th>\n",
              "      <td>71864</td>\n",
              "      <td>1</td>\n",
              "      <td>37685</td>\n",
              "      <td>0.023513</td>\n",
              "      <td>0.082192</td>\n",
              "      <td>0.000544</td>\n",
              "    </tr>\n",
              "    <tr>\n",
              "      <th>2</th>\n",
              "      <td>141692</td>\n",
              "      <td>3</td>\n",
              "      <td>135293</td>\n",
              "      <td>0.000889</td>\n",
              "      <td>0.013699</td>\n",
              "      <td>0.004228</td>\n",
              "    </tr>\n",
              "    <tr>\n",
              "      <th>3</th>\n",
              "      <td>316833</td>\n",
              "      <td>3</td>\n",
              "      <td>166998</td>\n",
              "      <td>0.000020</td>\n",
              "      <td>0.082192</td>\n",
              "      <td>0.003700</td>\n",
              "    </tr>\n",
              "    <tr>\n",
              "      <th>4</th>\n",
              "      <td>440445</td>\n",
              "      <td>3</td>\n",
              "      <td>53504</td>\n",
              "      <td>0.004293</td>\n",
              "      <td>0.136986</td>\n",
              "      <td>0.011436</td>\n",
              "    </tr>\n",
              "  </tbody>\n",
              "</table>\n",
              "</div>"
            ],
            "text/plain": [
              "       ID  Tag  Username  Reputation   Answers     Views\n",
              "0  366953    0     50652    0.005415  0.041096  0.006632\n",
              "1   71864    1     37685    0.023513  0.082192  0.000544\n",
              "2  141692    3    135293    0.000889  0.013699  0.004228\n",
              "3  316833    3    166998    0.000020  0.082192  0.003700\n",
              "4  440445    3     53504    0.004293  0.136986  0.011436"
            ]
          },
          "metadata": {
            "tags": []
          },
          "execution_count": 22
        }
      ]
    },
    {
      "metadata": {
        "id": "oy7NfVLsG0D7",
        "colab_type": "code",
        "outputId": "d475add3-81c1-4806-e593-55f31c7e6ea7",
        "colab": {
          "base_uri": "https://localhost:8080/",
          "height": 224
        }
      },
      "cell_type": "code",
      "source": [
        "onehot = pd.get_dummies(temp.iloc[:,1],  prefix='tag')\n",
        "# onehot.head()\n",
        "temp = pd.concat([temp,onehot], axis = 1)\n",
        "temp.head()"
      ],
      "execution_count": 0,
      "outputs": [
        {
          "output_type": "execute_result",
          "data": {
            "text/html": [
              "<div>\n",
              "<style scoped>\n",
              "    .dataframe tbody tr th:only-of-type {\n",
              "        vertical-align: middle;\n",
              "    }\n",
              "\n",
              "    .dataframe tbody tr th {\n",
              "        vertical-align: top;\n",
              "    }\n",
              "\n",
              "    .dataframe thead th {\n",
              "        text-align: right;\n",
              "    }\n",
              "</style>\n",
              "<table border=\"1\" class=\"dataframe\">\n",
              "  <thead>\n",
              "    <tr style=\"text-align: right;\">\n",
              "      <th></th>\n",
              "      <th>ID</th>\n",
              "      <th>Tag</th>\n",
              "      <th>Username</th>\n",
              "      <th>Reputation</th>\n",
              "      <th>Answers</th>\n",
              "      <th>Views</th>\n",
              "      <th>tag_0</th>\n",
              "      <th>tag_1</th>\n",
              "      <th>tag_2</th>\n",
              "      <th>tag_3</th>\n",
              "      <th>tag_4</th>\n",
              "      <th>tag_5</th>\n",
              "      <th>tag_6</th>\n",
              "      <th>tag_7</th>\n",
              "      <th>tag_8</th>\n",
              "      <th>tag_9</th>\n",
              "    </tr>\n",
              "  </thead>\n",
              "  <tbody>\n",
              "    <tr>\n",
              "      <th>0</th>\n",
              "      <td>366953</td>\n",
              "      <td>0</td>\n",
              "      <td>50652</td>\n",
              "      <td>0.005415</td>\n",
              "      <td>0.041096</td>\n",
              "      <td>0.006632</td>\n",
              "      <td>1</td>\n",
              "      <td>0</td>\n",
              "      <td>0</td>\n",
              "      <td>0</td>\n",
              "      <td>0</td>\n",
              "      <td>0</td>\n",
              "      <td>0</td>\n",
              "      <td>0</td>\n",
              "      <td>0</td>\n",
              "      <td>0</td>\n",
              "    </tr>\n",
              "    <tr>\n",
              "      <th>1</th>\n",
              "      <td>71864</td>\n",
              "      <td>1</td>\n",
              "      <td>37685</td>\n",
              "      <td>0.023513</td>\n",
              "      <td>0.082192</td>\n",
              "      <td>0.000544</td>\n",
              "      <td>0</td>\n",
              "      <td>1</td>\n",
              "      <td>0</td>\n",
              "      <td>0</td>\n",
              "      <td>0</td>\n",
              "      <td>0</td>\n",
              "      <td>0</td>\n",
              "      <td>0</td>\n",
              "      <td>0</td>\n",
              "      <td>0</td>\n",
              "    </tr>\n",
              "    <tr>\n",
              "      <th>2</th>\n",
              "      <td>141692</td>\n",
              "      <td>3</td>\n",
              "      <td>135293</td>\n",
              "      <td>0.000889</td>\n",
              "      <td>0.013699</td>\n",
              "      <td>0.004228</td>\n",
              "      <td>0</td>\n",
              "      <td>0</td>\n",
              "      <td>0</td>\n",
              "      <td>1</td>\n",
              "      <td>0</td>\n",
              "      <td>0</td>\n",
              "      <td>0</td>\n",
              "      <td>0</td>\n",
              "      <td>0</td>\n",
              "      <td>0</td>\n",
              "    </tr>\n",
              "    <tr>\n",
              "      <th>3</th>\n",
              "      <td>316833</td>\n",
              "      <td>3</td>\n",
              "      <td>166998</td>\n",
              "      <td>0.000020</td>\n",
              "      <td>0.082192</td>\n",
              "      <td>0.003700</td>\n",
              "      <td>0</td>\n",
              "      <td>0</td>\n",
              "      <td>0</td>\n",
              "      <td>1</td>\n",
              "      <td>0</td>\n",
              "      <td>0</td>\n",
              "      <td>0</td>\n",
              "      <td>0</td>\n",
              "      <td>0</td>\n",
              "      <td>0</td>\n",
              "    </tr>\n",
              "    <tr>\n",
              "      <th>4</th>\n",
              "      <td>440445</td>\n",
              "      <td>3</td>\n",
              "      <td>53504</td>\n",
              "      <td>0.004293</td>\n",
              "      <td>0.136986</td>\n",
              "      <td>0.011436</td>\n",
              "      <td>0</td>\n",
              "      <td>0</td>\n",
              "      <td>0</td>\n",
              "      <td>1</td>\n",
              "      <td>0</td>\n",
              "      <td>0</td>\n",
              "      <td>0</td>\n",
              "      <td>0</td>\n",
              "      <td>0</td>\n",
              "      <td>0</td>\n",
              "    </tr>\n",
              "  </tbody>\n",
              "</table>\n",
              "</div>"
            ],
            "text/plain": [
              "       ID  Tag  Username  Reputation   Answers     Views  tag_0  tag_1  tag_2  \\\n",
              "0  366953    0     50652    0.005415  0.041096  0.006632      1      0      0   \n",
              "1   71864    1     37685    0.023513  0.082192  0.000544      0      1      0   \n",
              "2  141692    3    135293    0.000889  0.013699  0.004228      0      0      0   \n",
              "3  316833    3    166998    0.000020  0.082192  0.003700      0      0      0   \n",
              "4  440445    3     53504    0.004293  0.136986  0.011436      0      0      0   \n",
              "\n",
              "   tag_3  tag_4  tag_5  tag_6  tag_7  tag_8  tag_9  \n",
              "0      0      0      0      0      0      0      0  \n",
              "1      0      0      0      0      0      0      0  \n",
              "2      1      0      0      0      0      0      0  \n",
              "3      1      0      0      0      0      0      0  \n",
              "4      1      0      0      0      0      0      0  "
            ]
          },
          "metadata": {
            "tags": []
          },
          "execution_count": 23
        }
      ]
    },
    {
      "metadata": {
        "id": "cDH6S6YqG0AC",
        "colab_type": "code",
        "colab": {}
      },
      "cell_type": "code",
      "source": [
        "feature_cols = ['Reputation',  'Views']\n",
        "\n",
        "X = temp[feature_cols]\n",
        "y_pred = model.predict(X)\n"
      ],
      "execution_count": 0,
      "outputs": []
    },
    {
      "metadata": {
        "id": "7tKR4U37Ga7E",
        "colab_type": "code",
        "outputId": "f469be37-d505-4ffb-d3e2-783461533893",
        "colab": {
          "base_uri": "https://localhost:8080/",
          "height": 170
        }
      },
      "cell_type": "code",
      "source": [
        "# y_pred\n",
        "df.Upvotes.describe()\n"
      ],
      "execution_count": 0,
      "outputs": [
        {
          "output_type": "execute_result",
          "data": {
            "text/plain": [
              "count    330045.000000\n",
              "mean        337.505358\n",
              "std        3592.441135\n",
              "min           0.000000\n",
              "25%           8.000000\n",
              "50%          28.000000\n",
              "75%         107.000000\n",
              "max      615278.000000\n",
              "Name: Upvotes, dtype: float64"
            ]
          },
          "metadata": {
            "tags": []
          },
          "execution_count": 43
        }
      ]
    },
    {
      "metadata": {
        "id": "X7DV5UTHIXOM",
        "colab_type": "code",
        "outputId": "f27face1-224b-4c4a-cdad-324636e85219",
        "colab": {
          "base_uri": "https://localhost:8080/",
          "height": 204
        }
      },
      "cell_type": "code",
      "source": [
        "maxi = y_pred*df.Upvotes.max()\n",
        "maxi = pd.DataFrame( maxi, columns=[ \"Upvotes\" ])\n",
        "maxi.head()"
      ],
      "execution_count": 0,
      "outputs": [
        {
          "output_type": "execute_result",
          "data": {
            "text/html": [
              "<div>\n",
              "<style scoped>\n",
              "    .dataframe tbody tr th:only-of-type {\n",
              "        vertical-align: middle;\n",
              "    }\n",
              "\n",
              "    .dataframe tbody tr th {\n",
              "        vertical-align: top;\n",
              "    }\n",
              "\n",
              "    .dataframe thead th {\n",
              "        text-align: right;\n",
              "    }\n",
              "</style>\n",
              "<table border=\"1\" class=\"dataframe\">\n",
              "  <thead>\n",
              "    <tr style=\"text-align: right;\">\n",
              "      <th></th>\n",
              "      <th>Upvotes</th>\n",
              "    </tr>\n",
              "  </thead>\n",
              "  <tbody>\n",
              "    <tr>\n",
              "      <th>0</th>\n",
              "      <td>221.556893</td>\n",
              "    </tr>\n",
              "    <tr>\n",
              "      <th>1</th>\n",
              "      <td>131.696032</td>\n",
              "    </tr>\n",
              "    <tr>\n",
              "      <th>2</th>\n",
              "      <td>35.882347</td>\n",
              "    </tr>\n",
              "    <tr>\n",
              "      <th>3</th>\n",
              "      <td>13.151701</td>\n",
              "    </tr>\n",
              "    <tr>\n",
              "      <th>4</th>\n",
              "      <td>299.788031</td>\n",
              "    </tr>\n",
              "  </tbody>\n",
              "</table>\n",
              "</div>"
            ],
            "text/plain": [
              "      Upvotes\n",
              "0  221.556893\n",
              "1  131.696032\n",
              "2   35.882347\n",
              "3   13.151701\n",
              "4  299.788031"
            ]
          },
          "metadata": {
            "tags": []
          },
          "execution_count": 49
        }
      ]
    },
    {
      "metadata": {
        "id": "tCgeaUq6Ie1q",
        "colab_type": "code",
        "colab": {}
      },
      "cell_type": "code",
      "source": [
        "test.ID\n"
      ],
      "execution_count": 0,
      "outputs": []
    },
    {
      "metadata": {
        "id": "7GpIjaBHJcdn",
        "colab_type": "code",
        "colab": {}
      },
      "cell_type": "code",
      "source": [
        "submission = pd.concat([test['ID'], maxi['Upvotes']], axis=1, keys=['ID', 'Upvotes'])"
      ],
      "execution_count": 0,
      "outputs": []
    },
    {
      "metadata": {
        "id": "V-_C1ViJJwxO",
        "colab_type": "code",
        "outputId": "8ab6a870-e973-4a75-ec9c-d5cdaa97995d",
        "colab": {
          "base_uri": "https://localhost:8080/",
          "height": 204
        }
      },
      "cell_type": "code",
      "source": [
        "submission.head()"
      ],
      "execution_count": 0,
      "outputs": [
        {
          "output_type": "execute_result",
          "data": {
            "text/html": [
              "<div>\n",
              "<style scoped>\n",
              "    .dataframe tbody tr th:only-of-type {\n",
              "        vertical-align: middle;\n",
              "    }\n",
              "\n",
              "    .dataframe tbody tr th {\n",
              "        vertical-align: top;\n",
              "    }\n",
              "\n",
              "    .dataframe thead th {\n",
              "        text-align: right;\n",
              "    }\n",
              "</style>\n",
              "<table border=\"1\" class=\"dataframe\">\n",
              "  <thead>\n",
              "    <tr style=\"text-align: right;\">\n",
              "      <th></th>\n",
              "      <th>ID</th>\n",
              "      <th>Upvotes</th>\n",
              "    </tr>\n",
              "  </thead>\n",
              "  <tbody>\n",
              "    <tr>\n",
              "      <th>0</th>\n",
              "      <td>366953</td>\n",
              "      <td>221.556893</td>\n",
              "    </tr>\n",
              "    <tr>\n",
              "      <th>1</th>\n",
              "      <td>71864</td>\n",
              "      <td>131.696032</td>\n",
              "    </tr>\n",
              "    <tr>\n",
              "      <th>2</th>\n",
              "      <td>141692</td>\n",
              "      <td>35.882347</td>\n",
              "    </tr>\n",
              "    <tr>\n",
              "      <th>3</th>\n",
              "      <td>316833</td>\n",
              "      <td>13.151701</td>\n",
              "    </tr>\n",
              "    <tr>\n",
              "      <th>4</th>\n",
              "      <td>440445</td>\n",
              "      <td>299.788031</td>\n",
              "    </tr>\n",
              "  </tbody>\n",
              "</table>\n",
              "</div>"
            ],
            "text/plain": [
              "       ID     Upvotes\n",
              "0  366953  221.556893\n",
              "1   71864  131.696032\n",
              "2  141692   35.882347\n",
              "3  316833   13.151701\n",
              "4  440445  299.788031"
            ]
          },
          "metadata": {
            "tags": []
          },
          "execution_count": 51
        }
      ]
    },
    {
      "metadata": {
        "id": "CgPMorh-J94D",
        "colab_type": "code",
        "colab": {}
      },
      "cell_type": "code",
      "source": [
        "submission.to_csv('/sub.csv')"
      ],
      "execution_count": 0,
      "outputs": []
    }
  ]
}
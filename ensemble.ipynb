{
  "nbformat": 4,
  "nbformat_minor": 0,
  "metadata": {
    "colab": {
      "name": "Untitled0.ipynb",
      "version": "0.3.2",
      "provenance": [],
      "include_colab_link": true
    },
    "kernelspec": {
      "name": "python3",
      "display_name": "Python 3"
    }
  },
  "cells": [
    {
      "cell_type": "markdown",
      "metadata": {
        "id": "view-in-github",
        "colab_type": "text"
      },
      "source": [
        "<a href=\"https://colab.research.google.com/github/pv-912/predict_number/blob/master/ensemble.ipynb\" target=\"_parent\"><img src=\"https://colab.research.google.com/assets/colab-badge.svg\" alt=\"Open In Colab\"/></a>"
      ]
    },
    {
      "metadata": {
        "id": "aO5yOY-WY4HG",
        "colab_type": "code",
        "colab": {}
      },
      "cell_type": "code",
      "source": [
        ""
      ],
      "execution_count": 0,
      "outputs": []
    },
    {
      "metadata": {
        "id": "Crd0LEma_yhK",
        "colab_type": "code",
        "outputId": "ad250964-48ad-416d-8eea-9807eef2d22c",
        "colab": {
          "base_uri": "https://localhost:8080/",
          "height": 34
        }
      },
      "cell_type": "code",
      "source": [
        "from google.colab import drive\n",
        "drive.mount('/content/gdrive')"
      ],
      "execution_count": 1,
      "outputs": [
        {
          "output_type": "stream",
          "text": [
            "Drive already mounted at /content/gdrive; to attempt to forcibly remount, call drive.mount(\"/content/gdrive\", force_remount=True).\n"
          ],
          "name": "stdout"
        }
      ]
    },
    {
      "metadata": {
        "id": "MU_jGJdL_yks",
        "colab_type": "code",
        "colab": {}
      },
      "cell_type": "code",
      "source": [
        "import pandas as pd\n",
        "pd.set_option('display.height', 1000)\n",
        "pd.set_option('display.max_rows', 500)\n",
        "pd.set_option('display.max_columns', 500)\n",
        "pd.set_option('display.width', 1000)\n",
        "# output all lines\n",
        "\n",
        "from IPython.core.interactiveshell import InteractiveShell\n",
        "InteractiveShell.ast_node_interactivity = \"all\""
      ],
      "execution_count": 0,
      "outputs": []
    },
    {
      "metadata": {
        "id": "iiWISh6l_ynK",
        "colab_type": "code",
        "colab": {}
      },
      "cell_type": "code",
      "source": [
        "df = pd.read_csv('gdrive/My Drive/learning/predict_number/data/train.csv')\n",
        "test_data = pd.read_csv('gdrive/My Drive/learning/predict_number/data/test.csv')\n",
        "sample = pd.read_csv('gdrive/My Drive/learning/predict_number/data/sample.csv')\n"
      ],
      "execution_count": 0,
      "outputs": []
    },
    {
      "metadata": {
        "id": "1pJJlgie_yqM",
        "colab_type": "code",
        "outputId": "43303c79-0ef2-495d-937d-ff44bb2b7f3d",
        "colab": {
          "base_uri": "https://localhost:8080/",
          "height": 204
        }
      },
      "cell_type": "code",
      "source": [
        "df.head()\n",
        "# test.head()"
      ],
      "execution_count": 4,
      "outputs": [
        {
          "output_type": "execute_result",
          "data": {
            "text/html": [
              "<div>\n",
              "<style scoped>\n",
              "    .dataframe tbody tr th:only-of-type {\n",
              "        vertical-align: middle;\n",
              "    }\n",
              "\n",
              "    .dataframe tbody tr th {\n",
              "        vertical-align: top;\n",
              "    }\n",
              "\n",
              "    .dataframe thead th {\n",
              "        text-align: right;\n",
              "    }\n",
              "</style>\n",
              "<table border=\"1\" class=\"dataframe\">\n",
              "  <thead>\n",
              "    <tr style=\"text-align: right;\">\n",
              "      <th></th>\n",
              "      <th>ID</th>\n",
              "      <th>Tag</th>\n",
              "      <th>Reputation</th>\n",
              "      <th>Answers</th>\n",
              "      <th>Username</th>\n",
              "      <th>Views</th>\n",
              "      <th>Upvotes</th>\n",
              "    </tr>\n",
              "  </thead>\n",
              "  <tbody>\n",
              "    <tr>\n",
              "      <th>0</th>\n",
              "      <td>52664</td>\n",
              "      <td>a</td>\n",
              "      <td>3942.0</td>\n",
              "      <td>2.0</td>\n",
              "      <td>155623</td>\n",
              "      <td>7855.0</td>\n",
              "      <td>42.0</td>\n",
              "    </tr>\n",
              "    <tr>\n",
              "      <th>1</th>\n",
              "      <td>327662</td>\n",
              "      <td>a</td>\n",
              "      <td>26046.0</td>\n",
              "      <td>12.0</td>\n",
              "      <td>21781</td>\n",
              "      <td>55801.0</td>\n",
              "      <td>1175.0</td>\n",
              "    </tr>\n",
              "    <tr>\n",
              "      <th>2</th>\n",
              "      <td>468453</td>\n",
              "      <td>c</td>\n",
              "      <td>1358.0</td>\n",
              "      <td>4.0</td>\n",
              "      <td>56177</td>\n",
              "      <td>8067.0</td>\n",
              "      <td>60.0</td>\n",
              "    </tr>\n",
              "    <tr>\n",
              "      <th>3</th>\n",
              "      <td>96996</td>\n",
              "      <td>a</td>\n",
              "      <td>264.0</td>\n",
              "      <td>3.0</td>\n",
              "      <td>168793</td>\n",
              "      <td>27064.0</td>\n",
              "      <td>9.0</td>\n",
              "    </tr>\n",
              "    <tr>\n",
              "      <th>4</th>\n",
              "      <td>131465</td>\n",
              "      <td>c</td>\n",
              "      <td>4271.0</td>\n",
              "      <td>4.0</td>\n",
              "      <td>112223</td>\n",
              "      <td>13986.0</td>\n",
              "      <td>83.0</td>\n",
              "    </tr>\n",
              "  </tbody>\n",
              "</table>\n",
              "</div>"
            ],
            "text/plain": [
              "       ID Tag  Reputation  Answers  Username    Views  Upvotes\n",
              "0   52664   a      3942.0      2.0    155623   7855.0     42.0\n",
              "1  327662   a     26046.0     12.0     21781  55801.0   1175.0\n",
              "2  468453   c      1358.0      4.0     56177   8067.0     60.0\n",
              "3   96996   a       264.0      3.0    168793  27064.0      9.0\n",
              "4  131465   c      4271.0      4.0    112223  13986.0     83.0"
            ]
          },
          "metadata": {
            "tags": []
          },
          "execution_count": 4
        }
      ]
    },
    {
      "metadata": {
        "id": "PL0ha7E5_yz0",
        "colab_type": "code",
        "outputId": "3544c4dd-d709-430a-d80f-139c2af6cbef",
        "colab": {
          "base_uri": "https://localhost:8080/",
          "height": 314
        }
      },
      "cell_type": "code",
      "source": [
        "df.shape\n",
        "test_data.shape\n",
        "df.Tag.unique()\n",
        "df.describe()"
      ],
      "execution_count": 5,
      "outputs": [
        {
          "output_type": "execute_result",
          "data": {
            "text/plain": [
              "(330045, 7)"
            ]
          },
          "metadata": {
            "tags": []
          },
          "execution_count": 5
        },
        {
          "output_type": "execute_result",
          "data": {
            "text/plain": [
              "(141448, 6)"
            ]
          },
          "metadata": {
            "tags": []
          },
          "execution_count": 5
        },
        {
          "output_type": "execute_result",
          "data": {
            "text/plain": [
              "array(['a', 'c', 'r', 'j', 'p', 's', 'h', 'o', 'i', 'x'], dtype=object)"
            ]
          },
          "metadata": {
            "tags": []
          },
          "execution_count": 5
        },
        {
          "output_type": "execute_result",
          "data": {
            "text/html": [
              "<div>\n",
              "<style scoped>\n",
              "    .dataframe tbody tr th:only-of-type {\n",
              "        vertical-align: middle;\n",
              "    }\n",
              "\n",
              "    .dataframe tbody tr th {\n",
              "        vertical-align: top;\n",
              "    }\n",
              "\n",
              "    .dataframe thead th {\n",
              "        text-align: right;\n",
              "    }\n",
              "</style>\n",
              "<table border=\"1\" class=\"dataframe\">\n",
              "  <thead>\n",
              "    <tr style=\"text-align: right;\">\n",
              "      <th></th>\n",
              "      <th>ID</th>\n",
              "      <th>Reputation</th>\n",
              "      <th>Answers</th>\n",
              "      <th>Username</th>\n",
              "      <th>Views</th>\n",
              "      <th>Upvotes</th>\n",
              "    </tr>\n",
              "  </thead>\n",
              "  <tbody>\n",
              "    <tr>\n",
              "      <th>count</th>\n",
              "      <td>330045.000000</td>\n",
              "      <td>3.300450e+05</td>\n",
              "      <td>330045.000000</td>\n",
              "      <td>330045.000000</td>\n",
              "      <td>3.300450e+05</td>\n",
              "      <td>330045.000000</td>\n",
              "    </tr>\n",
              "    <tr>\n",
              "      <th>mean</th>\n",
              "      <td>235748.682789</td>\n",
              "      <td>7.773147e+03</td>\n",
              "      <td>3.917672</td>\n",
              "      <td>81442.888803</td>\n",
              "      <td>2.964507e+04</td>\n",
              "      <td>337.505358</td>\n",
              "    </tr>\n",
              "    <tr>\n",
              "      <th>std</th>\n",
              "      <td>136039.418471</td>\n",
              "      <td>2.706141e+04</td>\n",
              "      <td>3.579515</td>\n",
              "      <td>49215.100730</td>\n",
              "      <td>8.095646e+04</td>\n",
              "      <td>3592.441135</td>\n",
              "    </tr>\n",
              "    <tr>\n",
              "      <th>min</th>\n",
              "      <td>1.000000</td>\n",
              "      <td>0.000000e+00</td>\n",
              "      <td>0.000000</td>\n",
              "      <td>0.000000</td>\n",
              "      <td>9.000000e+00</td>\n",
              "      <td>0.000000</td>\n",
              "    </tr>\n",
              "    <tr>\n",
              "      <th>25%</th>\n",
              "      <td>117909.000000</td>\n",
              "      <td>2.820000e+02</td>\n",
              "      <td>2.000000</td>\n",
              "      <td>39808.000000</td>\n",
              "      <td>2.594000e+03</td>\n",
              "      <td>8.000000</td>\n",
              "    </tr>\n",
              "    <tr>\n",
              "      <th>50%</th>\n",
              "      <td>235699.000000</td>\n",
              "      <td>1.236000e+03</td>\n",
              "      <td>3.000000</td>\n",
              "      <td>79010.000000</td>\n",
              "      <td>8.954000e+03</td>\n",
              "      <td>28.000000</td>\n",
              "    </tr>\n",
              "    <tr>\n",
              "      <th>75%</th>\n",
              "      <td>353620.000000</td>\n",
              "      <td>5.118000e+03</td>\n",
              "      <td>5.000000</td>\n",
              "      <td>122559.000000</td>\n",
              "      <td>2.687000e+04</td>\n",
              "      <td>107.000000</td>\n",
              "    </tr>\n",
              "    <tr>\n",
              "      <th>max</th>\n",
              "      <td>471493.000000</td>\n",
              "      <td>1.042428e+06</td>\n",
              "      <td>76.000000</td>\n",
              "      <td>175738.000000</td>\n",
              "      <td>5.231058e+06</td>\n",
              "      <td>615278.000000</td>\n",
              "    </tr>\n",
              "  </tbody>\n",
              "</table>\n",
              "</div>"
            ],
            "text/plain": [
              "                  ID    Reputation        Answers       Username         Views        Upvotes\n",
              "count  330045.000000  3.300450e+05  330045.000000  330045.000000  3.300450e+05  330045.000000\n",
              "mean   235748.682789  7.773147e+03       3.917672   81442.888803  2.964507e+04     337.505358\n",
              "std    136039.418471  2.706141e+04       3.579515   49215.100730  8.095646e+04    3592.441135\n",
              "min         1.000000  0.000000e+00       0.000000       0.000000  9.000000e+00       0.000000\n",
              "25%    117909.000000  2.820000e+02       2.000000   39808.000000  2.594000e+03       8.000000\n",
              "50%    235699.000000  1.236000e+03       3.000000   79010.000000  8.954000e+03      28.000000\n",
              "75%    353620.000000  5.118000e+03       5.000000  122559.000000  2.687000e+04     107.000000\n",
              "max    471493.000000  1.042428e+06      76.000000  175738.000000  5.231058e+06  615278.000000"
            ]
          },
          "metadata": {
            "tags": []
          },
          "execution_count": 5
        }
      ]
    },
    {
      "metadata": {
        "id": "b0XlSnw1_y6K",
        "colab_type": "code",
        "outputId": "9fe571fb-7d1c-41a1-d13e-134116017da5",
        "colab": {
          "base_uri": "https://localhost:8080/",
          "height": 34
        }
      },
      "cell_type": "code",
      "source": [
        "import numpy as np\n",
        "import pandas as pd\n",
        "import matplotlib.pyplot as plt\n",
        "%matplotlib inline\n",
        "!pip install mpld3\n",
        "import mpld3\n",
        "mpld3.enable_notebook()\n",
        "from sklearn.preprocessing import PolynomialFeatures\n",
        "\n",
        "from sklearn.pipeline import Pipeline"
      ],
      "execution_count": 6,
      "outputs": [
        {
          "output_type": "stream",
          "text": [
            "Requirement already satisfied: mpld3 in /usr/local/lib/python3.6/dist-packages (0.3)\n"
          ],
          "name": "stdout"
        }
      ]
    },
    {
      "metadata": {
        "id": "sYBUsvb4-U7D",
        "colab_type": "code",
        "colab": {}
      },
      "cell_type": "code",
      "source": [
        "import pandas as pd\n",
        "import numpy as np\n",
        "import matplotlib.pyplot as plt\n",
        "import seaborn as sns\n",
        "from collections import Counter\n",
        "\n",
        "%matplotlib inline\n",
        "from sklearn.linear_model import LinearRegression,LassoCV, Ridge, LassoLarsCV,ElasticNetCV\n",
        "from sklearn.model_selection import GridSearchCV, cross_val_score, learning_curve\n",
        "from sklearn.ensemble import RandomForestRegressor, AdaBoostRegressor, ExtraTreesRegressor, GradientBoostingRegressor\n",
        "from sklearn.preprocessing import StandardScaler, Normalizer, RobustScaler\n",
        "import xgboost as xgb\n",
        "import lightgbm as lgb\n",
        "import warnings\n",
        "\n",
        "warnings.filterwarnings('ignore')\n",
        "\n",
        "sns.set(style='white', context='notebook', palette='deep')"
      ],
      "execution_count": 0,
      "outputs": []
    },
    {
      "metadata": {
        "id": "03XYPn5c_yyA",
        "colab_type": "code",
        "outputId": "f8100166-c12f-4253-be04-132abe9f9523",
        "colab": {
          "base_uri": "https://localhost:8080/",
          "height": 434
        }
      },
      "cell_type": "code",
      "source": [
        "df.Tag.value_counts().plot(kind='bar')\n"
      ],
      "execution_count": 8,
      "outputs": [
        {
          "output_type": "execute_result",
          "data": {
            "text/plain": [
              "<matplotlib.axes._subplots.AxesSubplot at 0x7fca233a4e80>"
            ]
          },
          "metadata": {
            "tags": []
          },
          "execution_count": 8
        },
        {
          "output_type": "display_data",
          "data": {
            "image/png": "[encoded data removed]",
            "text/html": [
              "\n",
              "\n",
              "<style>\n",
              "\n",
              "</style>\n",
              "\n",
              "<div id=\"fig_el94914050677412587217509914\"></div>\n",
              "<script>\n",
              "function mpld3_load_lib(url, callback){\n",
              "  var s = document.createElement('script');\n",
              "  s.src = url;\n",
              "  s.async = true;\n",
              "  s.onreadystatechange = s.onload = callback;\n",
              "  s.onerror = function(){console.warn(\"failed to load library \" + url);};\n",
              "  document.getElementsByTagName(\"head\")[0].appendChild(s);\n",
              "}\n",
              "\n",
              "if(typeof(mpld3) !== \"undefined\" && mpld3._mpld3IsLoaded){\n",
              "   // already loaded: just create the figure\n",
              "   !function(mpld3){\n",
              "       \n",
              "       mpld3.draw_figure(\"fig_el94914050677412587217509914\", {\"width\": 576.0, \"height\": 396.0, \"axes\": [{\"bbox\": [0.125, 0.125, 0.775, 0.755], \"xlim\": [-0.5, 9.5], \"ylim\": [0.0, 76080.9], \"xdomain\": [-0.5, 9.5], \"ydomain\": [0.0, 76080.9], \"xscale\": \"linear\", \"yscale\": \"linear\", \"axes\": [{\"position\": \"bottom\", \"nticks\": 10, \"tickvalues\": [0, 1, 2, 3, 4, 5, 6, 7, 8, 9], \"tickformat\": [\"c\", \"j\", \"p\", \"i\", \"a\", \"s\", \"h\", \"o\", \"r\", \"x\"], \"scale\": \"linear\", \"fontsize\": 10.0, \"grid\": {\"gridOn\": false}, \"visible\": true}, {\"position\": \"left\", \"nticks\": 9, \"tickvalues\": null, \"tickformat\": null, \"scale\": \"linear\", \"fontsize\": 10.0, \"grid\": {\"gridOn\": false}, \"visible\": true}], \"axesbg\": \"#FFFFFF\", \"axesbgalpha\": null, \"zoomable\": true, \"id\": \"el949140506151145088\", \"lines\": [], \"paths\": [{\"data\": \"data01\", \"xindex\": 0, \"yindex\": 1, \"coordinates\": \"data\", \"pathcodes\": [\"M\", \"L\", \"L\", \"L\", \"Z\"], \"id\": \"el949140506083270496\", \"dasharray\": \"none\", \"alpha\": 1, \"facecolor\": \"#4C72B0\", \"edgecolor\": \"none\", \"edgewidth\": 0.3, \"zorder\": 1}, {\"data\": \"data02\", \"xindex\": 0, \"yindex\": 1, \"coordinates\": \"data\", \"pathcodes\": [\"M\", \"L\", \"L\", \"L\", \"Z\"], \"id\": \"el949140506083340976\", \"dasharray\": \"none\", \"alpha\": 1, \"facecolor\": \"#55A868\", \"edgecolor\": \"none\", \"edgewidth\": 0.3, \"zorder\": 1}, {\"data\": \"data03\", \"xindex\": 0, \"yindex\": 1, \"coordinates\": \"data\", \"pathcodes\": [\"M\", \"L\", \"L\", \"L\", \"Z\"], \"id\": \"el949140506083341816\", \"dasharray\": \"none\", \"alpha\": 1, \"facecolor\": \"#C44E52\", \"edgecolor\": \"none\", \"edgewidth\": 0.3, \"zorder\": 1}, {\"data\": \"data04\", \"xindex\": 0, \"yindex\": 1, \"coordinates\": \"data\", \"pathcodes\": [\"M\", \"L\", \"L\", \"L\", \"Z\"], \"id\": \"el949140506083342656\", \"dasharray\": \"none\", \"alpha\": 1, \"facecolor\": \"#8172B2\", \"edgecolor\": \"none\", \"edgewidth\": 0.3, \"zorder\": 1}, {\"data\": \"data05\", \"xindex\": 0, \"yindex\": 1, \"coordinates\": \"data\", \"pathcodes\": [\"M\", \"L\", \"L\", \"L\", \"Z\"], \"id\": \"el949140506083343496\", \"dasharray\": \"none\", \"alpha\": 1, \"facecolor\": \"#CCB974\", \"edgecolor\": \"none\", \"edgewidth\": 0.3, \"zorder\": 1}, {\"data\": \"data06\", \"xindex\": 0, \"yindex\": 1, \"coordinates\": \"data\", \"pathcodes\": [\"M\", \"L\", \"L\", \"L\", \"Z\"], \"id\": \"el949140506083344336\", \"dasharray\": \"none\", \"alpha\": 1, \"facecolor\": \"#64B5CD\", \"edgecolor\": \"none\", \"edgewidth\": 0.3, \"zorder\": 1}, {\"data\": \"data07\", \"xindex\": 0, \"yindex\": 1, \"coordinates\": \"data\", \"pathcodes\": [\"M\", \"L\", \"L\", \"L\", \"Z\"], \"id\": \"el949140506083402584\", \"dasharray\": \"none\", \"alpha\": 1, \"facecolor\": \"#4C72B0\", \"edgecolor\": \"none\", \"edgewidth\": 0.3, \"zorder\": 1}, {\"data\": \"data08\", \"xindex\": 0, \"yindex\": 1, \"coordinates\": \"data\", \"pathcodes\": [\"M\", \"L\", \"L\", \"L\", \"Z\"], \"id\": \"el949140506083269824\", \"dasharray\": \"none\", \"alpha\": 1, \"facecolor\": \"#4C72B0\", \"edgecolor\": \"none\", \"edgewidth\": 0.3, \"zorder\": 1}, {\"data\": \"data09\", \"xindex\": 0, \"yindex\": 1, \"coordinates\": \"data\", \"pathcodes\": [\"M\", \"L\", \"L\", \"L\", \"Z\"], \"id\": \"el949140506083404208\", \"dasharray\": \"none\", \"alpha\": 1, \"facecolor\": \"#55A868\", \"edgecolor\": \"none\", \"edgewidth\": 0.3, \"zorder\": 1}, {\"data\": \"data10\", \"xindex\": 0, \"yindex\": 1, \"coordinates\": \"data\", \"pathcodes\": [\"M\", \"L\", \"L\", \"L\", \"Z\"], \"id\": \"el949140506083405048\", \"dasharray\": \"none\", \"alpha\": 1, \"facecolor\": \"#C44E52\", \"edgecolor\": \"none\", \"edgewidth\": 0.3, \"zorder\": 1}], \"markers\": [], \"texts\": [], \"collections\": [], \"images\": [], \"sharex\": [], \"sharey\": []}], \"data\": {\"data01\": [[-0.25, 0.0], [0.25, 0.0], [0.25, 72458.0], [-0.25, 72458.0]], \"data02\": [[0.75, 0.0], [1.25, 0.0], [1.25, 72232.0], [0.75, 72232.0]], \"data03\": [[1.75, 0.0], [2.25, 0.0], [2.25, 43407.0], [1.75, 43407.0]], \"data04\": [[2.75, 0.0], [3.25, 0.0], [3.25, 32400.0], [2.75, 32400.0]], \"data05\": [[3.75, 0.0], [4.25, 0.0], [4.25, 31695.0], [3.75, 31695.0]], \"data06\": [[4.75, 0.0], [5.25, 0.0], [5.25, 23323.0], [4.75, 23323.0]], \"data07\": [[5.75, 0.0], [6.25, 0.0], [6.25, 20564.0], [5.75, 20564.0]], \"data08\": [[6.75, 0.0], [7.25, 0.0], [7.25, 14546.0], [6.75, 14546.0]], \"data09\": [[7.75, 0.0], [8.25, 0.0], [8.25, 12442.0], [7.75, 12442.0]], \"data10\": [[8.75, 0.0], [9.25, 0.0], [9.25, 6978.0], [8.75, 6978.0]]}, \"id\": \"el949140506774125872\", \"plugins\": [{\"type\": \"reset\"}, {\"type\": \"zoom\", \"button\": true, \"enabled\": false}, {\"type\": \"boxzoom\", \"button\": true, \"enabled\": false}]});\n",
              "   }(mpld3);\n",
              "}else if(typeof define === \"function\" && define.amd){\n",
              "   // require.js is available: use it to load d3/mpld3\n",
              "   require.config({paths: {d3: \"https://mpld3.github.io/js/d3.v3.min\"}});\n",
              "   require([\"d3\"], function(d3){\n",
              "      window.d3 = d3;\n",
              "      mpld3_load_lib(\"https://mpld3.github.io/js/mpld3.v0.3.js\", function(){\n",
              "         \n",
              "         mpld3.draw_figure(\"fig_el94914050677412587217509914\", {\"width\": 576.0, \"height\": 396.0, \"axes\": [{\"bbox\": [0.125, 0.125, 0.775, 0.755], \"xlim\": [-0.5, 9.5], \"ylim\": [0.0, 76080.9], \"xdomain\": [-0.5, 9.5], \"ydomain\": [0.0, 76080.9], \"xscale\": \"linear\", \"yscale\": \"linear\", \"axes\": [{\"position\": \"bottom\", \"nticks\": 10, \"tickvalues\": [0, 1, 2, 3, 4, 5, 6, 7, 8, 9], \"tickformat\": [\"c\", \"j\", \"p\", \"i\", \"a\", \"s\", \"h\", \"o\", \"r\", \"x\"], \"scale\": \"linear\", \"fontsize\": 10.0, \"grid\": {\"gridOn\": false}, \"visible\": true}, {\"position\": \"left\", \"nticks\": 9, \"tickvalues\": null, \"tickformat\": null, \"scale\": \"linear\", \"fontsize\": 10.0, \"grid\": {\"gridOn\": false}, \"visible\": true}], \"axesbg\": \"#FFFFFF\", \"axesbgalpha\": null, \"zoomable\": true, \"id\": \"el949140506151145088\", \"lines\": [], \"paths\": [{\"data\": \"data01\", \"xindex\": 0, \"yindex\": 1, \"coordinates\": \"data\", \"pathcodes\": [\"M\", \"L\", \"L\", \"L\", \"Z\"], \"id\": \"el949140506083270496\", \"dasharray\": \"none\", \"alpha\": 1, \"facecolor\": \"#4C72B0\", \"edgecolor\": \"none\", \"edgewidth\": 0.3, \"zorder\": 1}, {\"data\": \"data02\", \"xindex\": 0, \"yindex\": 1, \"coordinates\": \"data\", \"pathcodes\": [\"M\", \"L\", \"L\", \"L\", \"Z\"], \"id\": \"el949140506083340976\", \"dasharray\": \"none\", \"alpha\": 1, \"facecolor\": \"#55A868\", \"edgecolor\": \"none\", \"edgewidth\": 0.3, \"zorder\": 1}, {\"data\": \"data03\", \"xindex\": 0, \"yindex\": 1, \"coordinates\": \"data\", \"pathcodes\": [\"M\", \"L\", \"L\", \"L\", \"Z\"], \"id\": \"el949140506083341816\", \"dasharray\": \"none\", \"alpha\": 1, \"facecolor\": \"#C44E52\", \"edgecolor\": \"none\", \"edgewidth\": 0.3, \"zorder\": 1}, {\"data\": \"data04\", \"xindex\": 0, \"yindex\": 1, \"coordinates\": \"data\", \"pathcodes\": [\"M\", \"L\", \"L\", \"L\", \"Z\"], \"id\": \"el949140506083342656\", \"dasharray\": \"none\", \"alpha\": 1, \"facecolor\": \"#8172B2\", \"edgecolor\": \"none\", \"edgewidth\": 0.3, \"zorder\": 1}, {\"data\": \"data05\", \"xindex\": 0, \"yindex\": 1, \"coordinates\": \"data\", \"pathcodes\": [\"M\", \"L\", \"L\", \"L\", \"Z\"], \"id\": \"el949140506083343496\", \"dasharray\": \"none\", \"alpha\": 1, \"facecolor\": \"#CCB974\", \"edgecolor\": \"none\", \"edgewidth\": 0.3, \"zorder\": 1}, {\"data\": \"data06\", \"xindex\": 0, \"yindex\": 1, \"coordinates\": \"data\", \"pathcodes\": [\"M\", \"L\", \"L\", \"L\", \"Z\"], \"id\": \"el949140506083344336\", \"dasharray\": \"none\", \"alpha\": 1, \"facecolor\": \"#64B5CD\", \"edgecolor\": \"none\", \"edgewidth\": 0.3, \"zorder\": 1}, {\"data\": \"data07\", \"xindex\": 0, \"yindex\": 1, \"coordinates\": \"data\", \"pathcodes\": [\"M\", \"L\", \"L\", \"L\", \"Z\"], \"id\": \"el949140506083402584\", \"dasharray\": \"none\", \"alpha\": 1, \"facecolor\": \"#4C72B0\", \"edgecolor\": \"none\", \"edgewidth\": 0.3, \"zorder\": 1}, {\"data\": \"data08\", \"xindex\": 0, \"yindex\": 1, \"coordinates\": \"data\", \"pathcodes\": [\"M\", \"L\", \"L\", \"L\", \"Z\"], \"id\": \"el949140506083269824\", \"dasharray\": \"none\", \"alpha\": 1, \"facecolor\": \"#4C72B0\", \"edgecolor\": \"none\", \"edgewidth\": 0.3, \"zorder\": 1}, {\"data\": \"data09\", \"xindex\": 0, \"yindex\": 1, \"coordinates\": \"data\", \"pathcodes\": [\"M\", \"L\", \"L\", \"L\", \"Z\"], \"id\": \"el949140506083404208\", \"dasharray\": \"none\", \"alpha\": 1, \"facecolor\": \"#55A868\", \"edgecolor\": \"none\", \"edgewidth\": 0.3, \"zorder\": 1}, {\"data\": \"data10\", \"xindex\": 0, \"yindex\": 1, \"coordinates\": \"data\", \"pathcodes\": [\"M\", \"L\", \"L\", \"L\", \"Z\"], \"id\": \"el949140506083405048\", \"dasharray\": \"none\", \"alpha\": 1, \"facecolor\": \"#C44E52\", \"edgecolor\": \"none\", \"edgewidth\": 0.3, \"zorder\": 1}], \"markers\": [], \"texts\": [], \"collections\": [], \"images\": [], \"sharex\": [], \"sharey\": []}], \"data\": {\"data01\": [[-0.25, 0.0], [0.25, 0.0], [0.25, 72458.0], [-0.25, 72458.0]], \"data02\": [[0.75, 0.0], [1.25, 0.0], [1.25, 72232.0], [0.75, 72232.0]], \"data03\": [[1.75, 0.0], [2.25, 0.0], [2.25, 43407.0], [1.75, 43407.0]], \"data04\": [[2.75, 0.0], [3.25, 0.0], [3.25, 32400.0], [2.75, 32400.0]], \"data05\": [[3.75, 0.0], [4.25, 0.0], [4.25, 31695.0], [3.75, 31695.0]], \"data06\": [[4.75, 0.0], [5.25, 0.0], [5.25, 23323.0], [4.75, 23323.0]], \"data07\": [[5.75, 0.0], [6.25, 0.0], [6.25, 20564.0], [5.75, 20564.0]], \"data08\": [[6.75, 0.0], [7.25, 0.0], [7.25, 14546.0], [6.75, 14546.0]], \"data09\": [[7.75, 0.0], [8.25, 0.0], [8.25, 12442.0], [7.75, 12442.0]], \"data10\": [[8.75, 0.0], [9.25, 0.0], [9.25, 6978.0], [8.75, 6978.0]]}, \"id\": \"el949140506774125872\", \"plugins\": [{\"type\": \"reset\"}, {\"type\": \"zoom\", \"button\": true, \"enabled\": false}, {\"type\": \"boxzoom\", \"button\": true, \"enabled\": false}]});\n",
              "      });\n",
              "    });\n",
              "}else{\n",
              "    // require.js not available: dynamically load d3 & mpld3\n",
              "    mpld3_load_lib(\"https://mpld3.github.io/js/d3.v3.min.js\", function(){\n",
              "         mpld3_load_lib(\"https://mpld3.github.io/js/mpld3.v0.3.js\", function(){\n",
              "                 \n",
              "                 mpld3.draw_figure(\"fig_el94914050677412587217509914\", {\"width\": 576.0, \"height\": 396.0, \"axes\": [{\"bbox\": [0.125, 0.125, 0.775, 0.755], \"xlim\": [-0.5, 9.5], \"ylim\": [0.0, 76080.9], \"xdomain\": [-0.5, 9.5], \"ydomain\": [0.0, 76080.9], \"xscale\": \"linear\", \"yscale\": \"linear\", \"axes\": [{\"position\": \"bottom\", \"nticks\": 10, \"tickvalues\": [0, 1, 2, 3, 4, 5, 6, 7, 8, 9], \"tickformat\": [\"c\", \"j\", \"p\", \"i\", \"a\", \"s\", \"h\", \"o\", \"r\", \"x\"], \"scale\": \"linear\", \"fontsize\": 10.0, \"grid\": {\"gridOn\": false}, \"visible\": true}, {\"position\": \"left\", \"nticks\": 9, \"tickvalues\": null, \"tickformat\": null, \"scale\": \"linear\", \"fontsize\": 10.0, \"grid\": {\"gridOn\": false}, \"visible\": true}], \"axesbg\": \"#FFFFFF\", \"axesbgalpha\": null, \"zoomable\": true, \"id\": \"el949140506151145088\", \"lines\": [], \"paths\": [{\"data\": \"data01\", \"xindex\": 0, \"yindex\": 1, \"coordinates\": \"data\", \"pathcodes\": [\"M\", \"L\", \"L\", \"L\", \"Z\"], \"id\": \"el949140506083270496\", \"dasharray\": \"none\", \"alpha\": 1, \"facecolor\": \"#4C72B0\", \"edgecolor\": \"none\", \"edgewidth\": 0.3, \"zorder\": 1}, {\"data\": \"data02\", \"xindex\": 0, \"yindex\": 1, \"coordinates\": \"data\", \"pathcodes\": [\"M\", \"L\", \"L\", \"L\", \"Z\"], \"id\": \"el949140506083340976\", \"dasharray\": \"none\", \"alpha\": 1, \"facecolor\": \"#55A868\", \"edgecolor\": \"none\", \"edgewidth\": 0.3, \"zorder\": 1}, {\"data\": \"data03\", \"xindex\": 0, \"yindex\": 1, \"coordinates\": \"data\", \"pathcodes\": [\"M\", \"L\", \"L\", \"L\", \"Z\"], \"id\": \"el949140506083341816\", \"dasharray\": \"none\", \"alpha\": 1, \"facecolor\": \"#C44E52\", \"edgecolor\": \"none\", \"edgewidth\": 0.3, \"zorder\": 1}, {\"data\": \"data04\", \"xindex\": 0, \"yindex\": 1, \"coordinates\": \"data\", \"pathcodes\": [\"M\", \"L\", \"L\", \"L\", \"Z\"], \"id\": \"el949140506083342656\", \"dasharray\": \"none\", \"alpha\": 1, \"facecolor\": \"#8172B2\", \"edgecolor\": \"none\", \"edgewidth\": 0.3, \"zorder\": 1}, {\"data\": \"data05\", \"xindex\": 0, \"yindex\": 1, \"coordinates\": \"data\", \"pathcodes\": [\"M\", \"L\", \"L\", \"L\", \"Z\"], \"id\": \"el949140506083343496\", \"dasharray\": \"none\", \"alpha\": 1, \"facecolor\": \"#CCB974\", \"edgecolor\": \"none\", \"edgewidth\": 0.3, \"zorder\": 1}, {\"data\": \"data06\", \"xindex\": 0, \"yindex\": 1, \"coordinates\": \"data\", \"pathcodes\": [\"M\", \"L\", \"L\", \"L\", \"Z\"], \"id\": \"el949140506083344336\", \"dasharray\": \"none\", \"alpha\": 1, \"facecolor\": \"#64B5CD\", \"edgecolor\": \"none\", \"edgewidth\": 0.3, \"zorder\": 1}, {\"data\": \"data07\", \"xindex\": 0, \"yindex\": 1, \"coordinates\": \"data\", \"pathcodes\": [\"M\", \"L\", \"L\", \"L\", \"Z\"], \"id\": \"el949140506083402584\", \"dasharray\": \"none\", \"alpha\": 1, \"facecolor\": \"#4C72B0\", \"edgecolor\": \"none\", \"edgewidth\": 0.3, \"zorder\": 1}, {\"data\": \"data08\", \"xindex\": 0, \"yindex\": 1, \"coordinates\": \"data\", \"pathcodes\": [\"M\", \"L\", \"L\", \"L\", \"Z\"], \"id\": \"el949140506083269824\", \"dasharray\": \"none\", \"alpha\": 1, \"facecolor\": \"#4C72B0\", \"edgecolor\": \"none\", \"edgewidth\": 0.3, \"zorder\": 1}, {\"data\": \"data09\", \"xindex\": 0, \"yindex\": 1, \"coordinates\": \"data\", \"pathcodes\": [\"M\", \"L\", \"L\", \"L\", \"Z\"], \"id\": \"el949140506083404208\", \"dasharray\": \"none\", \"alpha\": 1, \"facecolor\": \"#55A868\", \"edgecolor\": \"none\", \"edgewidth\": 0.3, \"zorder\": 1}, {\"data\": \"data10\", \"xindex\": 0, \"yindex\": 1, \"coordinates\": \"data\", \"pathcodes\": [\"M\", \"L\", \"L\", \"L\", \"Z\"], \"id\": \"el949140506083405048\", \"dasharray\": \"none\", \"alpha\": 1, \"facecolor\": \"#C44E52\", \"edgecolor\": \"none\", \"edgewidth\": 0.3, \"zorder\": 1}], \"markers\": [], \"texts\": [], \"collections\": [], \"images\": [], \"sharex\": [], \"sharey\": []}], \"data\": {\"data01\": [[-0.25, 0.0], [0.25, 0.0], [0.25, 72458.0], [-0.25, 72458.0]], \"data02\": [[0.75, 0.0], [1.25, 0.0], [1.25, 72232.0], [0.75, 72232.0]], \"data03\": [[1.75, 0.0], [2.25, 0.0], [2.25, 43407.0], [1.75, 43407.0]], \"data04\": [[2.75, 0.0], [3.25, 0.0], [3.25, 32400.0], [2.75, 32400.0]], \"data05\": [[3.75, 0.0], [4.25, 0.0], [4.25, 31695.0], [3.75, 31695.0]], \"data06\": [[4.75, 0.0], [5.25, 0.0], [5.25, 23323.0], [4.75, 23323.0]], \"data07\": [[5.75, 0.0], [6.25, 0.0], [6.25, 20564.0], [5.75, 20564.0]], \"data08\": [[6.75, 0.0], [7.25, 0.0], [7.25, 14546.0], [6.75, 14546.0]], \"data09\": [[7.75, 0.0], [8.25, 0.0], [8.25, 12442.0], [7.75, 12442.0]], \"data10\": [[8.75, 0.0], [9.25, 0.0], [9.25, 6978.0], [8.75, 6978.0]]}, \"id\": \"el949140506774125872\", \"plugins\": [{\"type\": \"reset\"}, {\"type\": \"zoom\", \"button\": true, \"enabled\": false}, {\"type\": \"boxzoom\", \"button\": true, \"enabled\": false}]});\n",
              "            })\n",
              "         });\n",
              "}\n",
              "</script>"
            ],
            "text/plain": [
              "<Figure size 576x396 with 1 Axes>"
            ]
          },
          "metadata": {
            "tags": []
          }
        }
      ]
    },
    {
      "metadata": {
        "id": "Pf6D7fii_ytT",
        "colab_type": "code",
        "outputId": "8027ec9c-abc5-4f5d-9441-6e9d00d7cb46",
        "colab": {
          "base_uri": "https://localhost:8080/",
          "height": 204
        }
      },
      "cell_type": "code",
      "source": [
        "# df.Tag.value_counts(normalize=True).plot(kind='bar')\n",
        "df.Tag.value_counts()"
      ],
      "execution_count": 9,
      "outputs": [
        {
          "output_type": "execute_result",
          "data": {
            "text/plain": [
              "c    72458\n",
              "j    72232\n",
              "p    43407\n",
              "i    32400\n",
              "a    31695\n",
              "s    23323\n",
              "h    20564\n",
              "o    14546\n",
              "r    12442\n",
              "x     6978\n",
              "Name: Tag, dtype: int64"
            ]
          },
          "metadata": {
            "tags": []
          },
          "execution_count": 9
        }
      ]
    },
    {
      "metadata": {
        "id": "N_stioKPD2nh",
        "colab_type": "code",
        "outputId": "218883c0-9eb4-44ec-96f4-01af6a9e5594",
        "colab": {
          "base_uri": "https://localhost:8080/",
          "height": 166
        }
      },
      "cell_type": "code",
      "source": [
        "corr = df.corr()\n",
        "corr.style.background_gradient()"
      ],
      "execution_count": 10,
      "outputs": [
        {
          "output_type": "execute_result",
          "data": {
            "text/html": [
              "<style  type=\"text/css\" >\n",
              "    #T_60ea4d8e_26c7_11e9_bcbf_0242ac1c0002row0_col0 {\n",
              "            background-color:  #023858;\n",
              "        }    #T_60ea4d8e_26c7_11e9_bcbf_0242ac1c0002row0_col1 {\n",
              "            background-color:  #f8f1f8;\n",
              "        }    #T_60ea4d8e_26c7_11e9_bcbf_0242ac1c0002row0_col2 {\n",
              "            background-color:  #fbf3f9;\n",
              "        }    #T_60ea4d8e_26c7_11e9_bcbf_0242ac1c0002row0_col3 {\n",
              "            background-color:  #f9f2f8;\n",
              "        }    #T_60ea4d8e_26c7_11e9_bcbf_0242ac1c0002row0_col4 {\n",
              "            background-color:  #fdf5fa;\n",
              "        }    #T_60ea4d8e_26c7_11e9_bcbf_0242ac1c0002row0_col5 {\n",
              "            background-color:  #fdf5fa;\n",
              "        }    #T_60ea4d8e_26c7_11e9_bcbf_0242ac1c0002row1_col0 {\n",
              "            background-color:  #fef6fa;\n",
              "        }    #T_60ea4d8e_26c7_11e9_bcbf_0242ac1c0002row1_col1 {\n",
              "            background-color:  #023858;\n",
              "        }    #T_60ea4d8e_26c7_11e9_bcbf_0242ac1c0002row1_col2 {\n",
              "            background-color:  #f4edf6;\n",
              "        }    #T_60ea4d8e_26c7_11e9_bcbf_0242ac1c0002row1_col3 {\n",
              "            background-color:  #fff7fb;\n",
              "        }    #T_60ea4d8e_26c7_11e9_bcbf_0242ac1c0002row1_col4 {\n",
              "            background-color:  #faf3f9;\n",
              "        }    #T_60ea4d8e_26c7_11e9_bcbf_0242ac1c0002row1_col5 {\n",
              "            background-color:  #c8cde4;\n",
              "        }    #T_60ea4d8e_26c7_11e9_bcbf_0242ac1c0002row2_col0 {\n",
              "            background-color:  #fdf5fa;\n",
              "        }    #T_60ea4d8e_26c7_11e9_bcbf_0242ac1c0002row2_col1 {\n",
              "            background-color:  #f0eaf4;\n",
              "        }    #T_60ea4d8e_26c7_11e9_bcbf_0242ac1c0002row2_col2 {\n",
              "            background-color:  #023858;\n",
              "        }    #T_60ea4d8e_26c7_11e9_bcbf_0242ac1c0002row2_col3 {\n",
              "            background-color:  #fbf3f9;\n",
              "        }    #T_60ea4d8e_26c7_11e9_bcbf_0242ac1c0002row2_col4 {\n",
              "            background-color:  #75a9cf;\n",
              "        }    #T_60ea4d8e_26c7_11e9_bcbf_0242ac1c0002row2_col5 {\n",
              "            background-color:  #d9d8ea;\n",
              "        }    #T_60ea4d8e_26c7_11e9_bcbf_0242ac1c0002row3_col0 {\n",
              "            background-color:  #fff7fb;\n",
              "        }    #T_60ea4d8e_26c7_11e9_bcbf_0242ac1c0002row3_col1 {\n",
              "            background-color:  #fff7fb;\n",
              "        }    #T_60ea4d8e_26c7_11e9_bcbf_0242ac1c0002row3_col2 {\n",
              "            background-color:  #fff7fb;\n",
              "        }    #T_60ea4d8e_26c7_11e9_bcbf_0242ac1c0002row3_col3 {\n",
              "            background-color:  #023858;\n",
              "        }    #T_60ea4d8e_26c7_11e9_bcbf_0242ac1c0002row3_col4 {\n",
              "            background-color:  #fff7fb;\n",
              "        }    #T_60ea4d8e_26c7_11e9_bcbf_0242ac1c0002row3_col5 {\n",
              "            background-color:  #fff7fb;\n",
              "        }    #T_60ea4d8e_26c7_11e9_bcbf_0242ac1c0002row4_col0 {\n",
              "            background-color:  #fdf5fa;\n",
              "        }    #T_60ea4d8e_26c7_11e9_bcbf_0242ac1c0002row4_col1 {\n",
              "            background-color:  #f4edf6;\n",
              "        }    #T_60ea4d8e_26c7_11e9_bcbf_0242ac1c0002row4_col2 {\n",
              "            background-color:  #71a8ce;\n",
              "        }    #T_60ea4d8e_26c7_11e9_bcbf_0242ac1c0002row4_col3 {\n",
              "            background-color:  #f9f2f8;\n",
              "        }    #T_60ea4d8e_26c7_11e9_bcbf_0242ac1c0002row4_col4 {\n",
              "            background-color:  #023858;\n",
              "        }    #T_60ea4d8e_26c7_11e9_bcbf_0242ac1c0002row4_col5 {\n",
              "            background-color:  #8bb2d4;\n",
              "        }    #T_60ea4d8e_26c7_11e9_bcbf_0242ac1c0002row5_col0 {\n",
              "            background-color:  #fef6fb;\n",
              "        }    #T_60ea4d8e_26c7_11e9_bcbf_0242ac1c0002row5_col1 {\n",
              "            background-color:  #c1cae2;\n",
              "        }    #T_60ea4d8e_26c7_11e9_bcbf_0242ac1c0002row5_col2 {\n",
              "            background-color:  #d9d8ea;\n",
              "        }    #T_60ea4d8e_26c7_11e9_bcbf_0242ac1c0002row5_col3 {\n",
              "            background-color:  #fbf3f9;\n",
              "        }    #T_60ea4d8e_26c7_11e9_bcbf_0242ac1c0002row5_col4 {\n",
              "            background-color:  #8eb3d5;\n",
              "        }    #T_60ea4d8e_26c7_11e9_bcbf_0242ac1c0002row5_col5 {\n",
              "            background-color:  #023858;\n",
              "        }</style>  \n",
              "<table id=\"T_60ea4d8e_26c7_11e9_bcbf_0242ac1c0002\" > \n",
              "<thead>    <tr> \n",
              "        <th class=\"blank level0\" ></th> \n",
              "        <th class=\"col_heading level0 col0\" >ID</th> \n",
              "        <th class=\"col_heading level0 col1\" >Reputation</th> \n",
              "        <th class=\"col_heading level0 col2\" >Answers</th> \n",
              "        <th class=\"col_heading level0 col3\" >Username</th> \n",
              "        <th class=\"col_heading level0 col4\" >Views</th> \n",
              "        <th class=\"col_heading level0 col5\" >Upvotes</th> \n",
              "    </tr></thead> \n",
              "<tbody>    <tr> \n",
              "        <th id=\"T_60ea4d8e_26c7_11e9_bcbf_0242ac1c0002level0_row0\" class=\"row_heading level0 row0\" >ID</th> \n",
              "        <td id=\"T_60ea4d8e_26c7_11e9_bcbf_0242ac1c0002row0_col0\" class=\"data row0 col0\" >1</td> \n",
              "        <td id=\"T_60ea4d8e_26c7_11e9_bcbf_0242ac1c0002row0_col1\" class=\"data row0 col1\" >0.00854598</td> \n",
              "        <td id=\"T_60ea4d8e_26c7_11e9_bcbf_0242ac1c0002row0_col2\" class=\"data row0 col2\" >0.017448</td> \n",
              "        <td id=\"T_60ea4d8e_26c7_11e9_bcbf_0242ac1c0002row0_col3\" class=\"data row0 col3\" >0.000628416</td> \n",
              "        <td id=\"T_60ea4d8e_26c7_11e9_bcbf_0242ac1c0002row0_col4\" class=\"data row0 col4\" >0.0174005</td> \n",
              "        <td id=\"T_60ea4d8e_26c7_11e9_bcbf_0242ac1c0002row0_col5\" class=\"data row0 col5\" >0.00632819</td> \n",
              "    </tr>    <tr> \n",
              "        <th id=\"T_60ea4d8e_26c7_11e9_bcbf_0242ac1c0002level0_row1\" class=\"row_heading level0 row1\" >Reputation</th> \n",
              "        <td id=\"T_60ea4d8e_26c7_11e9_bcbf_0242ac1c0002row1_col0\" class=\"data row1 col0\" >0.00854598</td> \n",
              "        <td id=\"T_60ea4d8e_26c7_11e9_bcbf_0242ac1c0002row1_col1\" class=\"data row1 col1\" >1</td> \n",
              "        <td id=\"T_60ea4d8e_26c7_11e9_bcbf_0242ac1c0002row1_col2\" class=\"data row1 col2\" >0.0665043</td> \n",
              "        <td id=\"T_60ea4d8e_26c7_11e9_bcbf_0242ac1c0002row1_col3\" class=\"data row1 col3\" >-0.0410193</td> \n",
              "        <td id=\"T_60ea4d8e_26c7_11e9_bcbf_0242ac1c0002row1_col4\" class=\"data row1 col4\" >0.0364555</td> \n",
              "        <td id=\"T_60ea4d8e_26c7_11e9_bcbf_0242ac1c0002row1_col5\" class=\"data row1 col5\" >0.26671</td> \n",
              "    </tr>    <tr> \n",
              "        <th id=\"T_60ea4d8e_26c7_11e9_bcbf_0242ac1c0002level0_row2\" class=\"row_heading level0 row2\" >Answers</th> \n",
              "        <td id=\"T_60ea4d8e_26c7_11e9_bcbf_0242ac1c0002row2_col0\" class=\"data row2 col0\" >0.017448</td> \n",
              "        <td id=\"T_60ea4d8e_26c7_11e9_bcbf_0242ac1c0002row2_col1\" class=\"data row2 col1\" >0.0665043</td> \n",
              "        <td id=\"T_60ea4d8e_26c7_11e9_bcbf_0242ac1c0002row2_col2\" class=\"data row2 col2\" >1</td> \n",
              "        <td id=\"T_60ea4d8e_26c7_11e9_bcbf_0242ac1c0002row2_col3\" class=\"data row2 col3\" >-0.0121975</td> \n",
              "        <td id=\"T_60ea4d8e_26c7_11e9_bcbf_0242ac1c0002row2_col4\" class=\"data row2 col4\" >0.498642</td> \n",
              "        <td id=\"T_60ea4d8e_26c7_11e9_bcbf_0242ac1c0002row2_col5\" class=\"data row2 col5\" >0.202033</td> \n",
              "    </tr>    <tr> \n",
              "        <th id=\"T_60ea4d8e_26c7_11e9_bcbf_0242ac1c0002level0_row3\" class=\"row_heading level0 row3\" >Username</th> \n",
              "        <td id=\"T_60ea4d8e_26c7_11e9_bcbf_0242ac1c0002row3_col0\" class=\"data row3 col0\" >0.000628416</td> \n",
              "        <td id=\"T_60ea4d8e_26c7_11e9_bcbf_0242ac1c0002row3_col1\" class=\"data row3 col1\" >-0.0410193</td> \n",
              "        <td id=\"T_60ea4d8e_26c7_11e9_bcbf_0242ac1c0002row3_col2\" class=\"data row3 col2\" >-0.0121975</td> \n",
              "        <td id=\"T_60ea4d8e_26c7_11e9_bcbf_0242ac1c0002row3_col3\" class=\"data row3 col3\" >1</td> \n",
              "        <td id=\"T_60ea4d8e_26c7_11e9_bcbf_0242ac1c0002row3_col4\" class=\"data row3 col4\" >0.00230564</td> \n",
              "        <td id=\"T_60ea4d8e_26c7_11e9_bcbf_0242ac1c0002row3_col5\" class=\"data row3 col5\" >-0.0119699</td> \n",
              "    </tr>    <tr> \n",
              "        <th id=\"T_60ea4d8e_26c7_11e9_bcbf_0242ac1c0002level0_row4\" class=\"row_heading level0 row4\" >Views</th> \n",
              "        <td id=\"T_60ea4d8e_26c7_11e9_bcbf_0242ac1c0002row4_col0\" class=\"data row4 col0\" >0.0174005</td> \n",
              "        <td id=\"T_60ea4d8e_26c7_11e9_bcbf_0242ac1c0002row4_col1\" class=\"data row4 col1\" >0.0364555</td> \n",
              "        <td id=\"T_60ea4d8e_26c7_11e9_bcbf_0242ac1c0002row4_col2\" class=\"data row4 col2\" >0.498642</td> \n",
              "        <td id=\"T_60ea4d8e_26c7_11e9_bcbf_0242ac1c0002row4_col3\" class=\"data row4 col3\" >0.00230564</td> \n",
              "        <td id=\"T_60ea4d8e_26c7_11e9_bcbf_0242ac1c0002row4_col4\" class=\"data row4 col4\" >1</td> \n",
              "        <td id=\"T_60ea4d8e_26c7_11e9_bcbf_0242ac1c0002row4_col5\" class=\"data row4 col5\" >0.437336</td> \n",
              "    </tr>    <tr> \n",
              "        <th id=\"T_60ea4d8e_26c7_11e9_bcbf_0242ac1c0002level0_row5\" class=\"row_heading level0 row5\" >Upvotes</th> \n",
              "        <td id=\"T_60ea4d8e_26c7_11e9_bcbf_0242ac1c0002row5_col0\" class=\"data row5 col0\" >0.00632819</td> \n",
              "        <td id=\"T_60ea4d8e_26c7_11e9_bcbf_0242ac1c0002row5_col1\" class=\"data row5 col1\" >0.26671</td> \n",
              "        <td id=\"T_60ea4d8e_26c7_11e9_bcbf_0242ac1c0002row5_col2\" class=\"data row5 col2\" >0.202033</td> \n",
              "        <td id=\"T_60ea4d8e_26c7_11e9_bcbf_0242ac1c0002row5_col3\" class=\"data row5 col3\" >-0.0119699</td> \n",
              "        <td id=\"T_60ea4d8e_26c7_11e9_bcbf_0242ac1c0002row5_col4\" class=\"data row5 col4\" >0.437336</td> \n",
              "        <td id=\"T_60ea4d8e_26c7_11e9_bcbf_0242ac1c0002row5_col5\" class=\"data row5 col5\" >1</td> \n",
              "    </tr></tbody> \n",
              "</table> "
            ],
            "text/plain": [
              "<pandas.io.formats.style.Styler at 0x7fca25267d30>"
            ]
          },
          "metadata": {
            "tags": []
          },
          "execution_count": 10
        }
      ]
    },
    {
      "metadata": {
        "id": "UUNPZvorL6iH",
        "colab_type": "code",
        "outputId": "1f6af78b-a605-44e0-dd49-0ed1db8bef24",
        "colab": {
          "base_uri": "https://localhost:8080/",
          "height": 34
        }
      },
      "cell_type": "code",
      "source": [
        "df.isnull().values.any()\n",
        "df.isnull().sum().sum()\n"
      ],
      "execution_count": 11,
      "outputs": [
        {
          "output_type": "execute_result",
          "data": {
            "text/plain": [
              "False"
            ]
          },
          "metadata": {
            "tags": []
          },
          "execution_count": 11
        },
        {
          "output_type": "execute_result",
          "data": {
            "text/plain": [
              "0"
            ]
          },
          "metadata": {
            "tags": []
          },
          "execution_count": 11
        }
      ]
    },
    {
      "metadata": {
        "id": "I--Y5tRLNVeo",
        "colab_type": "code",
        "colab": {}
      },
      "cell_type": "code",
      "source": [
        "from sklearn.preprocessing import LabelEncoder, OneHotEncoder\n"
      ],
      "execution_count": 0,
      "outputs": []
    },
    {
      "metadata": {
        "id": "lG1OqSYEBUA9",
        "colab_type": "code",
        "colab": {}
      },
      "cell_type": "code",
      "source": [
        "#join dataset for featuring\n",
        "train_len = len(df)\n",
        "dataset =  pd.concat(objs=[df, test_data], axis=0).reset_index(drop=True)\n"
      ],
      "execution_count": 0,
      "outputs": []
    },
    {
      "metadata": {
        "id": "av6YXjkfBqs2",
        "colab_type": "code",
        "outputId": "5b4e6e7a-6ac3-4f9b-d1f0-a9ad52b92ab1",
        "colab": {
          "base_uri": "https://localhost:8080/",
          "height": 34
        }
      },
      "cell_type": "code",
      "source": [
        "#missing values\n",
        "missing_features = dataset.columns[dataset.isnull().any()]\n",
        "missing_features"
      ],
      "execution_count": 14,
      "outputs": [
        {
          "output_type": "execute_result",
          "data": {
            "text/plain": [
              "Index(['Upvotes'], dtype='object')"
            ]
          },
          "metadata": {
            "tags": []
          },
          "execution_count": 14
        }
      ]
    },
    {
      "metadata": {
        "id": "JfeY1tgdCAP1",
        "colab_type": "code",
        "outputId": "57b7c5c1-554f-4804-d4dd-cd42358fc7df",
        "colab": {
          "base_uri": "https://localhost:8080/",
          "height": 391
        }
      },
      "cell_type": "code",
      "source": [
        "dataset.tail()\n",
        "dataset = dataset.drop(labels = [\"Upvotes\"],axis = 1)\n",
        "dataset.tail()\n"
      ],
      "execution_count": 15,
      "outputs": [
        {
          "output_type": "execute_result",
          "data": {
            "text/html": [
              "<div>\n",
              "<style scoped>\n",
              "    .dataframe tbody tr th:only-of-type {\n",
              "        vertical-align: middle;\n",
              "    }\n",
              "\n",
              "    .dataframe tbody tr th {\n",
              "        vertical-align: top;\n",
              "    }\n",
              "\n",
              "    .dataframe thead th {\n",
              "        text-align: right;\n",
              "    }\n",
              "</style>\n",
              "<table border=\"1\" class=\"dataframe\">\n",
              "  <thead>\n",
              "    <tr style=\"text-align: right;\">\n",
              "      <th></th>\n",
              "      <th>Answers</th>\n",
              "      <th>ID</th>\n",
              "      <th>Reputation</th>\n",
              "      <th>Tag</th>\n",
              "      <th>Upvotes</th>\n",
              "      <th>Username</th>\n",
              "      <th>Views</th>\n",
              "    </tr>\n",
              "  </thead>\n",
              "  <tbody>\n",
              "    <tr>\n",
              "      <th>471488</th>\n",
              "      <td>4.0</td>\n",
              "      <td>47187</td>\n",
              "      <td>4681.0</td>\n",
              "      <td>j</td>\n",
              "      <td>NaN</td>\n",
              "      <td>152060</td>\n",
              "      <td>2469.0</td>\n",
              "    </tr>\n",
              "    <tr>\n",
              "      <th>471489</th>\n",
              "      <td>3.0</td>\n",
              "      <td>329126</td>\n",
              "      <td>7782.0</td>\n",
              "      <td>j</td>\n",
              "      <td>NaN</td>\n",
              "      <td>89235</td>\n",
              "      <td>18998.0</td>\n",
              "    </tr>\n",
              "    <tr>\n",
              "      <th>471490</th>\n",
              "      <td>5.0</td>\n",
              "      <td>282334</td>\n",
              "      <td>435.0</td>\n",
              "      <td>p</td>\n",
              "      <td>NaN</td>\n",
              "      <td>119788</td>\n",
              "      <td>57048.0</td>\n",
              "    </tr>\n",
              "    <tr>\n",
              "      <th>471491</th>\n",
              "      <td>3.0</td>\n",
              "      <td>386629</td>\n",
              "      <td>176.0</td>\n",
              "      <td>o</td>\n",
              "      <td>NaN</td>\n",
              "      <td>86824</td>\n",
              "      <td>10193.0</td>\n",
              "    </tr>\n",
              "    <tr>\n",
              "      <th>471492</th>\n",
              "      <td>2.0</td>\n",
              "      <td>107271</td>\n",
              "      <td>648.0</td>\n",
              "      <td>a</td>\n",
              "      <td>NaN</td>\n",
              "      <td>102240</td>\n",
              "      <td>12785.0</td>\n",
              "    </tr>\n",
              "  </tbody>\n",
              "</table>\n",
              "</div>"
            ],
            "text/plain": [
              "        Answers      ID  Reputation Tag  Upvotes  Username    Views\n",
              "471488      4.0   47187      4681.0   j      NaN    152060   2469.0\n",
              "471489      3.0  329126      7782.0   j      NaN     89235  18998.0\n",
              "471490      5.0  282334       435.0   p      NaN    119788  57048.0\n",
              "471491      3.0  386629       176.0   o      NaN     86824  10193.0\n",
              "471492      2.0  107271       648.0   a      NaN    102240  12785.0"
            ]
          },
          "metadata": {
            "tags": []
          },
          "execution_count": 15
        },
        {
          "output_type": "execute_result",
          "data": {
            "text/html": [
              "<div>\n",
              "<style scoped>\n",
              "    .dataframe tbody tr th:only-of-type {\n",
              "        vertical-align: middle;\n",
              "    }\n",
              "\n",
              "    .dataframe tbody tr th {\n",
              "        vertical-align: top;\n",
              "    }\n",
              "\n",
              "    .dataframe thead th {\n",
              "        text-align: right;\n",
              "    }\n",
              "</style>\n",
              "<table border=\"1\" class=\"dataframe\">\n",
              "  <thead>\n",
              "    <tr style=\"text-align: right;\">\n",
              "      <th></th>\n",
              "      <th>Answers</th>\n",
              "      <th>ID</th>\n",
              "      <th>Reputation</th>\n",
              "      <th>Tag</th>\n",
              "      <th>Username</th>\n",
              "      <th>Views</th>\n",
              "    </tr>\n",
              "  </thead>\n",
              "  <tbody>\n",
              "    <tr>\n",
              "      <th>471488</th>\n",
              "      <td>4.0</td>\n",
              "      <td>47187</td>\n",
              "      <td>4681.0</td>\n",
              "      <td>j</td>\n",
              "      <td>152060</td>\n",
              "      <td>2469.0</td>\n",
              "    </tr>\n",
              "    <tr>\n",
              "      <th>471489</th>\n",
              "      <td>3.0</td>\n",
              "      <td>329126</td>\n",
              "      <td>7782.0</td>\n",
              "      <td>j</td>\n",
              "      <td>89235</td>\n",
              "      <td>18998.0</td>\n",
              "    </tr>\n",
              "    <tr>\n",
              "      <th>471490</th>\n",
              "      <td>5.0</td>\n",
              "      <td>282334</td>\n",
              "      <td>435.0</td>\n",
              "      <td>p</td>\n",
              "      <td>119788</td>\n",
              "      <td>57048.0</td>\n",
              "    </tr>\n",
              "    <tr>\n",
              "      <th>471491</th>\n",
              "      <td>3.0</td>\n",
              "      <td>386629</td>\n",
              "      <td>176.0</td>\n",
              "      <td>o</td>\n",
              "      <td>86824</td>\n",
              "      <td>10193.0</td>\n",
              "    </tr>\n",
              "    <tr>\n",
              "      <th>471492</th>\n",
              "      <td>2.0</td>\n",
              "      <td>107271</td>\n",
              "      <td>648.0</td>\n",
              "      <td>a</td>\n",
              "      <td>102240</td>\n",
              "      <td>12785.0</td>\n",
              "    </tr>\n",
              "  </tbody>\n",
              "</table>\n",
              "</div>"
            ],
            "text/plain": [
              "        Answers      ID  Reputation Tag  Username    Views\n",
              "471488      4.0   47187      4681.0   j    152060   2469.0\n",
              "471489      3.0  329126      7782.0   j     89235  18998.0\n",
              "471490      5.0  282334       435.0   p    119788  57048.0\n",
              "471491      3.0  386629       176.0   o     86824  10193.0\n",
              "471492      2.0  107271       648.0   a    102240  12785.0"
            ]
          },
          "metadata": {
            "tags": []
          },
          "execution_count": 15
        }
      ]
    },
    {
      "metadata": {
        "id": "1n5hNqT7N8Zp",
        "colab_type": "code",
        "outputId": "b1d386ac-5834-4df9-88ce-d2c2288412f0",
        "colab": {
          "base_uri": "https://localhost:8080/",
          "height": 204
        }
      },
      "cell_type": "code",
      "source": [
        "label_encoder = LabelEncoder()\n",
        "temp = dataset.copy()\n",
        "temp.iloc[:,1] = label_encoder.fit_transform(temp.iloc[:,1])\n",
        "temp.head()"
      ],
      "execution_count": 16,
      "outputs": [
        {
          "output_type": "execute_result",
          "data": {
            "text/html": [
              "<div>\n",
              "<style scoped>\n",
              "    .dataframe tbody tr th:only-of-type {\n",
              "        vertical-align: middle;\n",
              "    }\n",
              "\n",
              "    .dataframe tbody tr th {\n",
              "        vertical-align: top;\n",
              "    }\n",
              "\n",
              "    .dataframe thead th {\n",
              "        text-align: right;\n",
              "    }\n",
              "</style>\n",
              "<table border=\"1\" class=\"dataframe\">\n",
              "  <thead>\n",
              "    <tr style=\"text-align: right;\">\n",
              "      <th></th>\n",
              "      <th>Answers</th>\n",
              "      <th>ID</th>\n",
              "      <th>Reputation</th>\n",
              "      <th>Tag</th>\n",
              "      <th>Username</th>\n",
              "      <th>Views</th>\n",
              "    </tr>\n",
              "  </thead>\n",
              "  <tbody>\n",
              "    <tr>\n",
              "      <th>0</th>\n",
              "      <td>2.0</td>\n",
              "      <td>52663</td>\n",
              "      <td>3942.0</td>\n",
              "      <td>a</td>\n",
              "      <td>155623</td>\n",
              "      <td>7855.0</td>\n",
              "    </tr>\n",
              "    <tr>\n",
              "      <th>1</th>\n",
              "      <td>12.0</td>\n",
              "      <td>327661</td>\n",
              "      <td>26046.0</td>\n",
              "      <td>a</td>\n",
              "      <td>21781</td>\n",
              "      <td>55801.0</td>\n",
              "    </tr>\n",
              "    <tr>\n",
              "      <th>2</th>\n",
              "      <td>4.0</td>\n",
              "      <td>468452</td>\n",
              "      <td>1358.0</td>\n",
              "      <td>c</td>\n",
              "      <td>56177</td>\n",
              "      <td>8067.0</td>\n",
              "    </tr>\n",
              "    <tr>\n",
              "      <th>3</th>\n",
              "      <td>3.0</td>\n",
              "      <td>96995</td>\n",
              "      <td>264.0</td>\n",
              "      <td>a</td>\n",
              "      <td>168793</td>\n",
              "      <td>27064.0</td>\n",
              "    </tr>\n",
              "    <tr>\n",
              "      <th>4</th>\n",
              "      <td>4.0</td>\n",
              "      <td>131464</td>\n",
              "      <td>4271.0</td>\n",
              "      <td>c</td>\n",
              "      <td>112223</td>\n",
              "      <td>13986.0</td>\n",
              "    </tr>\n",
              "  </tbody>\n",
              "</table>\n",
              "</div>"
            ],
            "text/plain": [
              "   Answers      ID  Reputation Tag  Username    Views\n",
              "0      2.0   52663      3942.0   a    155623   7855.0\n",
              "1     12.0  327661     26046.0   a     21781  55801.0\n",
              "2      4.0  468452      1358.0   c     56177   8067.0\n",
              "3      3.0   96995       264.0   a    168793  27064.0\n",
              "4      4.0  131464      4271.0   c    112223  13986.0"
            ]
          },
          "metadata": {
            "tags": []
          },
          "execution_count": 16
        }
      ]
    },
    {
      "metadata": {
        "id": "lcry8YVEOaKt",
        "colab_type": "code",
        "outputId": "b1739874-7253-48a2-e306-ca9b551aa1ad",
        "colab": {
          "base_uri": "https://localhost:8080/",
          "height": 323
        }
      },
      "cell_type": "code",
      "source": [
        "\n",
        "from sklearn.preprocessing import StandardScaler, Normalizer, MinMaxScaler\n",
        "X = temp[[\"Reputation\",  \"Answers\" , \"Views\"]].values.astype(np.float64)\n",
        "min_max_scaler = MinMaxScaler()\n",
        "min_max_scaler.fit_transform(X)\n",
        "scaled_data = pd.DataFrame(min_max_scaler.fit_transform(X), columns=[\"Reputation\" , \"Answers\" , \"Views\"])\n",
        "scaled_data.head()\n",
        "\n",
        "#Robust scaler for outliers \n",
        "\n",
        "\n",
        "temp.drop(columns=[\"Reputation\", \"Answers\" , \"Views\"], axis=1,inplace=True)\n",
        "temp = pd.concat([temp, scaled_data], axis=1)\n"
      ],
      "execution_count": 17,
      "outputs": [
        {
          "output_type": "execute_result",
          "data": {
            "text/plain": [
              "array([[0.00378156, 0.02631579, 0.00149989],\n",
              "       [0.0249859 , 0.15789474, 0.01066555],\n",
              "       [0.00130273, 0.05263158, 0.00154042],\n",
              "       ...,\n",
              "       [0.0004173 , 0.06578947, 0.01090393],\n",
              "       [0.00016884, 0.03947368, 0.00194684],\n",
              "       [0.00062163, 0.02631579, 0.00244234]])"
            ]
          },
          "metadata": {
            "tags": []
          },
          "execution_count": 17
        },
        {
          "output_type": "execute_result",
          "data": {
            "text/html": [
              "<div>\n",
              "<style scoped>\n",
              "    .dataframe tbody tr th:only-of-type {\n",
              "        vertical-align: middle;\n",
              "    }\n",
              "\n",
              "    .dataframe tbody tr th {\n",
              "        vertical-align: top;\n",
              "    }\n",
              "\n",
              "    .dataframe thead th {\n",
              "        text-align: right;\n",
              "    }\n",
              "</style>\n",
              "<table border=\"1\" class=\"dataframe\">\n",
              "  <thead>\n",
              "    <tr style=\"text-align: right;\">\n",
              "      <th></th>\n",
              "      <th>Reputation</th>\n",
              "      <th>Answers</th>\n",
              "      <th>Views</th>\n",
              "    </tr>\n",
              "  </thead>\n",
              "  <tbody>\n",
              "    <tr>\n",
              "      <th>0</th>\n",
              "      <td>0.003782</td>\n",
              "      <td>0.026316</td>\n",
              "      <td>0.001500</td>\n",
              "    </tr>\n",
              "    <tr>\n",
              "      <th>1</th>\n",
              "      <td>0.024986</td>\n",
              "      <td>0.157895</td>\n",
              "      <td>0.010666</td>\n",
              "    </tr>\n",
              "    <tr>\n",
              "      <th>2</th>\n",
              "      <td>0.001303</td>\n",
              "      <td>0.052632</td>\n",
              "      <td>0.001540</td>\n",
              "    </tr>\n",
              "    <tr>\n",
              "      <th>3</th>\n",
              "      <td>0.000253</td>\n",
              "      <td>0.039474</td>\n",
              "      <td>0.005172</td>\n",
              "    </tr>\n",
              "    <tr>\n",
              "      <th>4</th>\n",
              "      <td>0.004097</td>\n",
              "      <td>0.052632</td>\n",
              "      <td>0.002672</td>\n",
              "    </tr>\n",
              "  </tbody>\n",
              "</table>\n",
              "</div>"
            ],
            "text/plain": [
              "   Reputation   Answers     Views\n",
              "0    0.003782  0.026316  0.001500\n",
              "1    0.024986  0.157895  0.010666\n",
              "2    0.001303  0.052632  0.001540\n",
              "3    0.000253  0.039474  0.005172\n",
              "4    0.004097  0.052632  0.002672"
            ]
          },
          "metadata": {
            "tags": []
          },
          "execution_count": 17
        }
      ]
    },
    {
      "metadata": {
        "id": "u6sKreRIiHLU",
        "colab_type": "code",
        "outputId": "56e855c1-93d7-4394-e10e-c4b98424f95c",
        "colab": {
          "base_uri": "https://localhost:8080/",
          "height": 204
        }
      },
      "cell_type": "code",
      "source": [
        "# df.head()\n",
        "temp.tail()\n",
        "# temp1.tail()"
      ],
      "execution_count": 18,
      "outputs": [
        {
          "output_type": "execute_result",
          "data": {
            "text/html": [
              "<div>\n",
              "<style scoped>\n",
              "    .dataframe tbody tr th:only-of-type {\n",
              "        vertical-align: middle;\n",
              "    }\n",
              "\n",
              "    .dataframe tbody tr th {\n",
              "        vertical-align: top;\n",
              "    }\n",
              "\n",
              "    .dataframe thead th {\n",
              "        text-align: right;\n",
              "    }\n",
              "</style>\n",
              "<table border=\"1\" class=\"dataframe\">\n",
              "  <thead>\n",
              "    <tr style=\"text-align: right;\">\n",
              "      <th></th>\n",
              "      <th>ID</th>\n",
              "      <th>Tag</th>\n",
              "      <th>Username</th>\n",
              "      <th>Reputation</th>\n",
              "      <th>Answers</th>\n",
              "      <th>Views</th>\n",
              "    </tr>\n",
              "  </thead>\n",
              "  <tbody>\n",
              "    <tr>\n",
              "      <th>471488</th>\n",
              "      <td>47186</td>\n",
              "      <td>j</td>\n",
              "      <td>152060</td>\n",
              "      <td>0.004490</td>\n",
              "      <td>0.052632</td>\n",
              "      <td>0.000470</td>\n",
              "    </tr>\n",
              "    <tr>\n",
              "      <th>471489</th>\n",
              "      <td>329125</td>\n",
              "      <td>j</td>\n",
              "      <td>89235</td>\n",
              "      <td>0.007465</td>\n",
              "      <td>0.039474</td>\n",
              "      <td>0.003630</td>\n",
              "    </tr>\n",
              "    <tr>\n",
              "      <th>471490</th>\n",
              "      <td>282333</td>\n",
              "      <td>p</td>\n",
              "      <td>119788</td>\n",
              "      <td>0.000417</td>\n",
              "      <td>0.065789</td>\n",
              "      <td>0.010904</td>\n",
              "    </tr>\n",
              "    <tr>\n",
              "      <th>471491</th>\n",
              "      <td>386628</td>\n",
              "      <td>o</td>\n",
              "      <td>86824</td>\n",
              "      <td>0.000169</td>\n",
              "      <td>0.039474</td>\n",
              "      <td>0.001947</td>\n",
              "    </tr>\n",
              "    <tr>\n",
              "      <th>471492</th>\n",
              "      <td>107270</td>\n",
              "      <td>a</td>\n",
              "      <td>102240</td>\n",
              "      <td>0.000622</td>\n",
              "      <td>0.026316</td>\n",
              "      <td>0.002442</td>\n",
              "    </tr>\n",
              "  </tbody>\n",
              "</table>\n",
              "</div>"
            ],
            "text/plain": [
              "            ID Tag  Username  Reputation   Answers     Views\n",
              "471488   47186   j    152060    0.004490  0.052632  0.000470\n",
              "471489  329125   j     89235    0.007465  0.039474  0.003630\n",
              "471490  282333   p    119788    0.000417  0.065789  0.010904\n",
              "471491  386628   o     86824    0.000169  0.039474  0.001947\n",
              "471492  107270   a    102240    0.000622  0.026316  0.002442"
            ]
          },
          "metadata": {
            "tags": []
          },
          "execution_count": 18
        }
      ]
    },
    {
      "metadata": {
        "id": "J3CxT9LyNX2S",
        "colab_type": "code",
        "outputId": "bbaaa310-cb0e-42a7-c16c-6ccd7487253b",
        "colab": {
          "base_uri": "https://localhost:8080/",
          "height": 204
        }
      },
      "cell_type": "code",
      "source": [
        "onehot = pd.get_dummies(temp.iloc[:,1],  prefix='tag')\n",
        "onehot.head()"
      ],
      "execution_count": 19,
      "outputs": [
        {
          "output_type": "execute_result",
          "data": {
            "text/html": [
              "<div>\n",
              "<style scoped>\n",
              "    .dataframe tbody tr th:only-of-type {\n",
              "        vertical-align: middle;\n",
              "    }\n",
              "\n",
              "    .dataframe tbody tr th {\n",
              "        vertical-align: top;\n",
              "    }\n",
              "\n",
              "    .dataframe thead th {\n",
              "        text-align: right;\n",
              "    }\n",
              "</style>\n",
              "<table border=\"1\" class=\"dataframe\">\n",
              "  <thead>\n",
              "    <tr style=\"text-align: right;\">\n",
              "      <th></th>\n",
              "      <th>tag_a</th>\n",
              "      <th>tag_c</th>\n",
              "      <th>tag_h</th>\n",
              "      <th>tag_i</th>\n",
              "      <th>tag_j</th>\n",
              "      <th>tag_o</th>\n",
              "      <th>tag_p</th>\n",
              "      <th>tag_r</th>\n",
              "      <th>tag_s</th>\n",
              "      <th>tag_x</th>\n",
              "    </tr>\n",
              "  </thead>\n",
              "  <tbody>\n",
              "    <tr>\n",
              "      <th>0</th>\n",
              "      <td>1</td>\n",
              "      <td>0</td>\n",
              "      <td>0</td>\n",
              "      <td>0</td>\n",
              "      <td>0</td>\n",
              "      <td>0</td>\n",
              "      <td>0</td>\n",
              "      <td>0</td>\n",
              "      <td>0</td>\n",
              "      <td>0</td>\n",
              "    </tr>\n",
              "    <tr>\n",
              "      <th>1</th>\n",
              "      <td>1</td>\n",
              "      <td>0</td>\n",
              "      <td>0</td>\n",
              "      <td>0</td>\n",
              "      <td>0</td>\n",
              "      <td>0</td>\n",
              "      <td>0</td>\n",
              "      <td>0</td>\n",
              "      <td>0</td>\n",
              "      <td>0</td>\n",
              "    </tr>\n",
              "    <tr>\n",
              "      <th>2</th>\n",
              "      <td>0</td>\n",
              "      <td>1</td>\n",
              "      <td>0</td>\n",
              "      <td>0</td>\n",
              "      <td>0</td>\n",
              "      <td>0</td>\n",
              "      <td>0</td>\n",
              "      <td>0</td>\n",
              "      <td>0</td>\n",
              "      <td>0</td>\n",
              "    </tr>\n",
              "    <tr>\n",
              "      <th>3</th>\n",
              "      <td>1</td>\n",
              "      <td>0</td>\n",
              "      <td>0</td>\n",
              "      <td>0</td>\n",
              "      <td>0</td>\n",
              "      <td>0</td>\n",
              "      <td>0</td>\n",
              "      <td>0</td>\n",
              "      <td>0</td>\n",
              "      <td>0</td>\n",
              "    </tr>\n",
              "    <tr>\n",
              "      <th>4</th>\n",
              "      <td>0</td>\n",
              "      <td>1</td>\n",
              "      <td>0</td>\n",
              "      <td>0</td>\n",
              "      <td>0</td>\n",
              "      <td>0</td>\n",
              "      <td>0</td>\n",
              "      <td>0</td>\n",
              "      <td>0</td>\n",
              "      <td>0</td>\n",
              "    </tr>\n",
              "  </tbody>\n",
              "</table>\n",
              "</div>"
            ],
            "text/plain": [
              "   tag_a  tag_c  tag_h  tag_i  tag_j  tag_o  tag_p  tag_r  tag_s  tag_x\n",
              "0      1      0      0      0      0      0      0      0      0      0\n",
              "1      1      0      0      0      0      0      0      0      0      0\n",
              "2      0      1      0      0      0      0      0      0      0      0\n",
              "3      1      0      0      0      0      0      0      0      0      0\n",
              "4      0      1      0      0      0      0      0      0      0      0"
            ]
          },
          "metadata": {
            "tags": []
          },
          "execution_count": 19
        }
      ]
    },
    {
      "metadata": {
        "id": "yGDZW-pSOL9O",
        "colab_type": "code",
        "outputId": "144c3a75-a913-42fd-d1fa-cd004f24494b",
        "colab": {
          "base_uri": "https://localhost:8080/",
          "height": 204
        }
      },
      "cell_type": "code",
      "source": [
        "temp = pd.concat([temp,onehot], axis = 1)\n",
        "temp = temp.drop(labels = [\"Tag\",\"ID\", \"Username\"],axis = 1)\n",
        "# temp = temp.drop(labels = [\"tag_a\",\"tag_c\",\"tag_h\",\"tag_i\",\"tag_j\",\"tag_o\",\"tag_p\",\"tag_r\",\"tag_s\",\"tag_x\"],axis = 1)\n",
        "\n",
        "temp.head()"
      ],
      "execution_count": 20,
      "outputs": [
        {
          "output_type": "execute_result",
          "data": {
            "text/html": [
              "<div>\n",
              "<style scoped>\n",
              "    .dataframe tbody tr th:only-of-type {\n",
              "        vertical-align: middle;\n",
              "    }\n",
              "\n",
              "    .dataframe tbody tr th {\n",
              "        vertical-align: top;\n",
              "    }\n",
              "\n",
              "    .dataframe thead th {\n",
              "        text-align: right;\n",
              "    }\n",
              "</style>\n",
              "<table border=\"1\" class=\"dataframe\">\n",
              "  <thead>\n",
              "    <tr style=\"text-align: right;\">\n",
              "      <th></th>\n",
              "      <th>Reputation</th>\n",
              "      <th>Answers</th>\n",
              "      <th>Views</th>\n",
              "      <th>tag_a</th>\n",
              "      <th>tag_c</th>\n",
              "      <th>tag_h</th>\n",
              "      <th>tag_i</th>\n",
              "      <th>tag_j</th>\n",
              "      <th>tag_o</th>\n",
              "      <th>tag_p</th>\n",
              "      <th>tag_r</th>\n",
              "      <th>tag_s</th>\n",
              "      <th>tag_x</th>\n",
              "    </tr>\n",
              "  </thead>\n",
              "  <tbody>\n",
              "    <tr>\n",
              "      <th>0</th>\n",
              "      <td>0.003782</td>\n",
              "      <td>0.026316</td>\n",
              "      <td>0.001500</td>\n",
              "      <td>1</td>\n",
              "      <td>0</td>\n",
              "      <td>0</td>\n",
              "      <td>0</td>\n",
              "      <td>0</td>\n",
              "      <td>0</td>\n",
              "      <td>0</td>\n",
              "      <td>0</td>\n",
              "      <td>0</td>\n",
              "      <td>0</td>\n",
              "    </tr>\n",
              "    <tr>\n",
              "      <th>1</th>\n",
              "      <td>0.024986</td>\n",
              "      <td>0.157895</td>\n",
              "      <td>0.010666</td>\n",
              "      <td>1</td>\n",
              "      <td>0</td>\n",
              "      <td>0</td>\n",
              "      <td>0</td>\n",
              "      <td>0</td>\n",
              "      <td>0</td>\n",
              "      <td>0</td>\n",
              "      <td>0</td>\n",
              "      <td>0</td>\n",
              "      <td>0</td>\n",
              "    </tr>\n",
              "    <tr>\n",
              "      <th>2</th>\n",
              "      <td>0.001303</td>\n",
              "      <td>0.052632</td>\n",
              "      <td>0.001540</td>\n",
              "      <td>0</td>\n",
              "      <td>1</td>\n",
              "      <td>0</td>\n",
              "      <td>0</td>\n",
              "      <td>0</td>\n",
              "      <td>0</td>\n",
              "      <td>0</td>\n",
              "      <td>0</td>\n",
              "      <td>0</td>\n",
              "      <td>0</td>\n",
              "    </tr>\n",
              "    <tr>\n",
              "      <th>3</th>\n",
              "      <td>0.000253</td>\n",
              "      <td>0.039474</td>\n",
              "      <td>0.005172</td>\n",
              "      <td>1</td>\n",
              "      <td>0</td>\n",
              "      <td>0</td>\n",
              "      <td>0</td>\n",
              "      <td>0</td>\n",
              "      <td>0</td>\n",
              "      <td>0</td>\n",
              "      <td>0</td>\n",
              "      <td>0</td>\n",
              "      <td>0</td>\n",
              "    </tr>\n",
              "    <tr>\n",
              "      <th>4</th>\n",
              "      <td>0.004097</td>\n",
              "      <td>0.052632</td>\n",
              "      <td>0.002672</td>\n",
              "      <td>0</td>\n",
              "      <td>1</td>\n",
              "      <td>0</td>\n",
              "      <td>0</td>\n",
              "      <td>0</td>\n",
              "      <td>0</td>\n",
              "      <td>0</td>\n",
              "      <td>0</td>\n",
              "      <td>0</td>\n",
              "      <td>0</td>\n",
              "    </tr>\n",
              "  </tbody>\n",
              "</table>\n",
              "</div>"
            ],
            "text/plain": [
              "   Reputation   Answers     Views  tag_a  tag_c  tag_h  tag_i  tag_j  tag_o  tag_p  tag_r  tag_s  tag_x\n",
              "0    0.003782  0.026316  0.001500      1      0      0      0      0      0      0      0      0      0\n",
              "1    0.024986  0.157895  0.010666      1      0      0      0      0      0      0      0      0      0\n",
              "2    0.001303  0.052632  0.001540      0      1      0      0      0      0      0      0      0      0\n",
              "3    0.000253  0.039474  0.005172      1      0      0      0      0      0      0      0      0      0\n",
              "4    0.004097  0.052632  0.002672      0      1      0      0      0      0      0      0      0      0"
            ]
          },
          "metadata": {
            "tags": []
          },
          "execution_count": 20
        }
      ]
    },
    {
      "metadata": {
        "id": "X7HpnQnbDLRe",
        "colab_type": "code",
        "outputId": "4b9c8a6b-e633-4112-841c-6a67ebf3e144",
        "colab": {
          "base_uri": "https://localhost:8080/",
          "height": 51
        }
      },
      "cell_type": "code",
      "source": [
        "N = RobustScaler()\n",
        "N.fit(temp)\n",
        "\n",
        "temp = N.transform(temp)"
      ],
      "execution_count": 21,
      "outputs": [
        {
          "output_type": "execute_result",
          "data": {
            "text/plain": [
              "RobustScaler(copy=True, quantile_range=(25.0, 75.0), with_centering=True,\n",
              "       with_scaling=True)"
            ]
          },
          "metadata": {
            "tags": []
          },
          "execution_count": 21
        }
      ]
    },
    {
      "metadata": {
        "id": "b4CEJiPdDLfj",
        "colab_type": "code",
        "outputId": "8d1771a5-8a5a-4b16-8606-9c817c5138b1",
        "colab": {
          "base_uri": "https://localhost:8080/",
          "height": 238
        }
      },
      "cell_type": "code",
      "source": [
        "X_train = temp[:train_len]\n",
        "Y_train = df['Upvotes']\n",
        "\n",
        "test = temp[train_len:]\n",
        "X_train"
      ],
      "execution_count": 22,
      "outputs": [
        {
          "output_type": "execute_result",
          "data": {
            "text/plain": [
              "array([[ 0.55902419, -0.33333333, -0.0455144 , ...,  0.        ,\n",
              "         0.        ,  0.        ],\n",
              "       [ 5.12879884,  3.        ,  1.92757202, ...,  0.        ,\n",
              "         0.        ,  0.        ],\n",
              "       [ 0.02480877,  0.33333333, -0.03679012, ...,  0.        ,\n",
              "         0.        ,  0.        ],\n",
              "       ...,\n",
              "       [ 1.02129419, -0.33333333, -0.26781893, ...,  0.        ,\n",
              "         0.        ,  0.        ],\n",
              "       [-0.23754393, -0.33333333, -0.28205761, ...,  0.        ,\n",
              "         0.        ,  0.        ],\n",
              "       [ 0.1577424 ,  0.33333333, -0.26366255, ...,  0.        ,\n",
              "         0.        ,  0.        ]])"
            ]
          },
          "metadata": {
            "tags": []
          },
          "execution_count": 22
        }
      ]
    },
    {
      "metadata": {
        "id": "mXEuD9yQEV6U",
        "colab_type": "code",
        "colab": {}
      },
      "cell_type": "code",
      "source": [
        "lassocv = LassoCV(eps=1e-7) \n",
        "ridge = Ridge(alpha=1e-6) \n",
        "lassolarscv = LassoLarsCV()\n",
        "elasticnetcv = ElasticNetCV(eps=1e-15)\n",
        "\n",
        "pipeline = Pipeline([('poly', PolynomialFeatures(degree=2)),\n",
        "                  ('linear', LinearRegression(fit_intercept=False))])\n",
        "\n"
      ],
      "execution_count": 0,
      "outputs": []
    },
    {
      "metadata": {
        "id": "nx3qNe53EV4L",
        "colab_type": "code",
        "colab": {}
      },
      "cell_type": "code",
      "source": [
        "def RMSE(estimator,X_train, Y_train, cv=5,n_jobs=4):\n",
        "    cv_results = cross_val_score(estimator,X_train,Y_train,cv=cv,scoring=\"neg_mean_squared_error\",n_jobs=n_jobs)\n",
        "    return (np.sqrt(-cv_results)).mean()"
      ],
      "execution_count": 0,
      "outputs": []
    },
    {
      "metadata": {
        "id": "72N8h1F-EV10",
        "colab_type": "code",
        "colab": {
          "base_uri": "https://localhost:8080/",
          "height": 34
        },
        "outputId": "6939f909-afc9-4d2b-958c-adc5cf81b62f"
      },
      "cell_type": "code",
      "source": [
        "RMSE(lassocv, X_train, Y_train)\n",
        "RMSE(ridge, X_train, Y_train)\n",
        "RMSE(lassolarscv, X_train, Y_train)\n",
        "RMSE(elasticnetcv, X_train, Y_train)\n",
        "RMSE(pipeline, X_train, Y_train)\n"
      ],
      "execution_count": 27,
      "outputs": [
        {
          "output_type": "execute_result",
          "data": {
            "text/plain": [
              "3063.794758266583"
            ]
          },
          "metadata": {
            "tags": []
          },
          "execution_count": 27
        },
        {
          "output_type": "execute_result",
          "data": {
            "text/plain": [
              "3063.801811060518"
            ]
          },
          "metadata": {
            "tags": []
          },
          "execution_count": 27
        },
        {
          "output_type": "execute_result",
          "data": {
            "text/plain": [
              "3063.7454932864357"
            ]
          },
          "metadata": {
            "tags": []
          },
          "execution_count": 27
        },
        {
          "output_type": "execute_result",
          "data": {
            "text/plain": [
              "3063.7363783388246"
            ]
          },
          "metadata": {
            "tags": []
          },
          "execution_count": 27
        },
        {
          "output_type": "execute_result",
          "data": {
            "text/plain": [
              "1186.394880233763"
            ]
          },
          "metadata": {
            "tags": []
          },
          "execution_count": 27
        }
      ]
    },
    {
      "metadata": {
        "id": "x-A0IPdhEVxt",
        "colab_type": "code",
        "outputId": "2a137ad6-1399-4f00-da5c-4589e41c348d",
        "colab": {
          "base_uri": "https://localhost:8080/",
          "height": 207
        }
      },
      "cell_type": "code",
      "source": [
        "lassocv.fit(X_train,Y_train)\n",
        "ridge.fit(X_train,Y_train)\n",
        "lassolarscv.fit(X_train,Y_train)\n",
        "elasticnetcv.fit(X_train,Y_train)\n",
        "pipeline = pipeline.fit(X_train, Y_train)"
      ],
      "execution_count": 28,
      "outputs": [
        {
          "output_type": "execute_result",
          "data": {
            "text/plain": [
              "LassoCV(alphas=None, copy_X=True, cv='warn', eps=1e-07, fit_intercept=True,\n",
              "    max_iter=1000, n_alphas=100, n_jobs=None, normalize=False,\n",
              "    positive=False, precompute='auto', random_state=None,\n",
              "    selection='cyclic', tol=0.0001, verbose=False)"
            ]
          },
          "metadata": {
            "tags": []
          },
          "execution_count": 28
        },
        {
          "output_type": "execute_result",
          "data": {
            "text/plain": [
              "Ridge(alpha=1e-06, copy_X=True, fit_intercept=True, max_iter=None,\n",
              "   normalize=False, random_state=None, solver='auto', tol=0.001)"
            ]
          },
          "metadata": {
            "tags": []
          },
          "execution_count": 28
        },
        {
          "output_type": "execute_result",
          "data": {
            "text/plain": [
              "LassoLarsCV(copy_X=True, cv='warn', eps=2.220446049250313e-16,\n",
              "      fit_intercept=True, max_iter=500, max_n_alphas=1000, n_jobs=None,\n",
              "      normalize=True, positive=False, precompute='auto', verbose=False)"
            ]
          },
          "metadata": {
            "tags": []
          },
          "execution_count": 28
        },
        {
          "output_type": "execute_result",
          "data": {
            "text/plain": [
              "ElasticNetCV(alphas=None, copy_X=True, cv='warn', eps=1e-15,\n",
              "       fit_intercept=True, l1_ratio=0.5, max_iter=1000, n_alphas=100,\n",
              "       n_jobs=None, normalize=False, positive=False, precompute='auto',\n",
              "       random_state=None, selection='cyclic', tol=0.0001, verbose=0)"
            ]
          },
          "metadata": {
            "tags": []
          },
          "execution_count": 28
        }
      ]
    },
    {
      "metadata": {
        "id": "4Dga07b4EVqn",
        "colab_type": "code",
        "colab": {}
      },
      "cell_type": "code",
      "source": [
        "Y_pred_lassocv = lassocv.predict(test)\n",
        "Y_pred_lassolarscv =lassolarscv.predict(test)\n",
        "Y_pred_elasticnetcv =elasticnetcv.predict(test)\n",
        "Y_pred_pipeline = pipeline.predict(test)\n",
        "\n",
        "# y_pred10 = model.predict(X_test)\n",
        "# dfp['10'] = y_pred10\n",
        "\n",
        "# print(np.sqrt(metrics.mean_squared_error(y_test, y_pred10)))"
      ],
      "execution_count": 0,
      "outputs": []
    },
    {
      "metadata": {
        "id": "HdvaGSetEVbT",
        "colab_type": "code",
        "outputId": "76a56e9d-69fc-42be-a4cb-4d7bbf5902ec",
        "colab": {
          "base_uri": "https://localhost:8080/",
          "height": 204
        }
      },
      "cell_type": "code",
      "source": [
        "maxi = pd.DataFrame( ((Y_pred_lassocv*0.1 + Y_pred_elasticnetcv*0.05 + Y_pred_lassolarscv*0.05 + Y_pred_pipeline*0.8)), columns=[ \"Upvotes\" ])\n",
        "maxi.head()\n",
        "\n"
      ],
      "execution_count": 33,
      "outputs": [
        {
          "output_type": "execute_result",
          "data": {
            "text/html": [
              "<div>\n",
              "<style scoped>\n",
              "    .dataframe tbody tr th:only-of-type {\n",
              "        vertical-align: middle;\n",
              "    }\n",
              "\n",
              "    .dataframe tbody tr th {\n",
              "        vertical-align: top;\n",
              "    }\n",
              "\n",
              "    .dataframe thead th {\n",
              "        text-align: right;\n",
              "    }\n",
              "</style>\n",
              "<table border=\"1\" class=\"dataframe\">\n",
              "  <thead>\n",
              "    <tr style=\"text-align: right;\">\n",
              "      <th></th>\n",
              "      <th>Upvotes</th>\n",
              "    </tr>\n",
              "  </thead>\n",
              "  <tbody>\n",
              "    <tr>\n",
              "      <th>0</th>\n",
              "      <td>239.149732</td>\n",
              "    </tr>\n",
              "    <tr>\n",
              "      <th>1</th>\n",
              "      <td>142.102917</td>\n",
              "    </tr>\n",
              "    <tr>\n",
              "      <th>2</th>\n",
              "      <td>53.369280</td>\n",
              "    </tr>\n",
              "    <tr>\n",
              "      <th>3</th>\n",
              "      <td>-4.587585</td>\n",
              "    </tr>\n",
              "    <tr>\n",
              "      <th>4</th>\n",
              "      <td>378.445088</td>\n",
              "    </tr>\n",
              "  </tbody>\n",
              "</table>\n",
              "</div>"
            ],
            "text/plain": [
              "      Upvotes\n",
              "0  239.149732\n",
              "1  142.102917\n",
              "2   53.369280\n",
              "3   -4.587585\n",
              "4  378.445088"
            ]
          },
          "metadata": {
            "tags": []
          },
          "execution_count": 33
        }
      ]
    },
    {
      "metadata": {
        "id": "PkTYH4_REVZM",
        "colab_type": "code",
        "outputId": "9682ff95-4158-4ec0-d837-c214de7ebe50",
        "colab": {
          "base_uri": "https://localhost:8080/",
          "height": 204
        }
      },
      "cell_type": "code",
      "source": [
        "submission = pd.concat([test_data['ID'], maxi['Upvotes']], axis=1, keys=['ID', 'Upvotes'])\n",
        "submission.head()\n",
        "submission.to_csv('/sub.csv')"
      ],
      "execution_count": 34,
      "outputs": [
        {
          "output_type": "execute_result",
          "data": {
            "text/html": [
              "<div>\n",
              "<style scoped>\n",
              "    .dataframe tbody tr th:only-of-type {\n",
              "        vertical-align: middle;\n",
              "    }\n",
              "\n",
              "    .dataframe tbody tr th {\n",
              "        vertical-align: top;\n",
              "    }\n",
              "\n",
              "    .dataframe thead th {\n",
              "        text-align: right;\n",
              "    }\n",
              "</style>\n",
              "<table border=\"1\" class=\"dataframe\">\n",
              "  <thead>\n",
              "    <tr style=\"text-align: right;\">\n",
              "      <th></th>\n",
              "      <th>ID</th>\n",
              "      <th>Upvotes</th>\n",
              "    </tr>\n",
              "  </thead>\n",
              "  <tbody>\n",
              "    <tr>\n",
              "      <th>0</th>\n",
              "      <td>366953</td>\n",
              "      <td>239.149732</td>\n",
              "    </tr>\n",
              "    <tr>\n",
              "      <th>1</th>\n",
              "      <td>71864</td>\n",
              "      <td>142.102917</td>\n",
              "    </tr>\n",
              "    <tr>\n",
              "      <th>2</th>\n",
              "      <td>141692</td>\n",
              "      <td>53.369280</td>\n",
              "    </tr>\n",
              "    <tr>\n",
              "      <th>3</th>\n",
              "      <td>316833</td>\n",
              "      <td>-4.587585</td>\n",
              "    </tr>\n",
              "    <tr>\n",
              "      <th>4</th>\n",
              "      <td>440445</td>\n",
              "      <td>378.445088</td>\n",
              "    </tr>\n",
              "  </tbody>\n",
              "</table>\n",
              "</div>"
            ],
            "text/plain": [
              "       ID     Upvotes\n",
              "0  366953  239.149732\n",
              "1   71864  142.102917\n",
              "2  141692   53.369280\n",
              "3  316833   -4.587585\n",
              "4  440445  378.445088"
            ]
          },
          "metadata": {
            "tags": []
          },
          "execution_count": 34
        }
      ]
    },
    {
      "metadata": {
        "id": "vsqOF99cZkc5",
        "colab_type": "code",
        "colab": {}
      },
      "cell_type": "code",
      "source": [
        ""
      ],
      "execution_count": 0,
      "outputs": []
    }
  ]
}